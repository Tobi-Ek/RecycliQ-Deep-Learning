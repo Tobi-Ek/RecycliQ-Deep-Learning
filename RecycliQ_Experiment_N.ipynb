{
  "nbformat": 4,
  "nbformat_minor": 0,
  "metadata": {
    "colab": {
      "name": "RecycliQ_Experiment_N.ipynb",
      "provenance": [],
      "collapsed_sections": [
        "hRTa3Ee15WsJ",
        "wN6N-nWH-X2H",
        "G97M9jHQ7zwL",
        "v77rlkCKW0IJ",
        "z4gTv7ig2vMh",
        "WFMzPm9d8AF3",
        "RxvgOYTDSWTx",
        "8cBP3JQs6O9S",
        "7xw5sxbY6O9U",
        "4ZzTi6QgkK6f"
      ],
      "toc_visible": true
    },
    "kernelspec": {
      "display_name": "Python 3",
      "name": "python3"
    }
  },
  "cells": [
    {
      "cell_type": "markdown",
      "metadata": {
        "id": "DPZQHyxo3jFs"
      },
      "source": [
        "![image.png](data:image/png;base64,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)"
      ]
    },
    {
      "cell_type": "markdown",
      "metadata": {
        "id": "XZkoczKn0iJT"
      },
      "source": [
        "# **Research Project**\n",
        "### OLUWATOBI EKUNDAYO - x19173105\n",
        "#### **MSc. Data Analytics, National College of Ireland**"
      ]
    },
    {
      "cell_type": "markdown",
      "metadata": {
        "id": "GOLvKQhr1jQH"
      },
      "source": [
        "<h1>Table of Contents<span class=\"tocSkip\"></span></h1>\n",
        "<div class=\"toc\"><ul class=\"toc-item\">\n",
        "  <li><span><a href=\"#Experiment-N:-Test-ML/DL-Models-with-NEW-dataset\" data-toc-modified-id=\"Experiment-N:-Test-ML/DL-Models-with-NEW-dataset-1\"><span class=\"toc-item-num\">1.&nbsp;&nbsp;</span>Experiment N: Test ML/DL Models with NEW dataset</a></span></li>\n",
        "  <li><span><a href=\"#Experiment-2:-State-of-the-art-Model\" data-toc-modified-id=\"Experiment-2:-State-of-the-art-Model-2\"><span class=\"toc-item-num\">2.&nbsp;&nbsp;</span>Experiment 2: State-of-the-art Model</a></span></li>\n",
        "  <li><span><a href=\"#Experiment-3:-MobileNetV2-Model\" data-toc-modified-id=\"Experiment-3:-MobileNetV2-Model-3\"><span class=\"toc-item-num\">3.&nbsp;&nbsp;</span>Experiment 3: MobiletNetV2 Model</a></span></li>\n",
        "  <li><span><a href=\"#Experiment-4:-EfficientNet-Model\" data-toc-modified-id=\"Experiment-4:-EfficientNet-Model-4\"><span class=\"toc-item-num\">4.&nbsp;&nbsp;</span>Experiment 4: EfficientNet Model</a></span></li>\n",
        "  <li><span><a href=\"#Experiment-5:-DenseNet-Model\" data-toc-modified-id=\"Experiment-5:-DenseNet-Model-5\"><span class=\"toc-item-num\">5.&nbsp;&nbsp;</span>Experiment 5: DenseNet Model</a></span></li>\n",
        "  <li><span><a href=\"#Experiment-6:-ResNet152-Model\" data-toc-modified-id=\"Experiment-6:-ResNet152-Model-6\"><span class=\"toc-item-num\">6.&nbsp;&nbsp;</span>Experiment 6: ResNet152 Model</a></span></li>\n",
        "  <li><span><a href=\"#Experiment-7:-Inception-ResNet-V2-Model\" data-toc-modified-id=\"Experiment-7:-Inception-ResNet-V2-Model-7\"><span class=\"toc-item-num\">7.&nbsp;&nbsp;</span>Experiment 7: Inception-ResNet-V2 Model</a></span></li>\n",
        "  <li><span><a href=\"#EVALUATION:-Compare-Model-Performance\" data-toc-modified-id=\"EVALUATION:-Compare-Model-Performance-8\"><span class=\"toc-item-num\">8.&nbsp;&nbsp;</span>EVALUATION: Compare Model Performance</a></span></li>  \n",
        " </ul></div>"
      ]
    },
    {
      "cell_type": "markdown",
      "metadata": {
        "id": "hRTa3Ee15WsJ"
      },
      "source": [
        "## **Experiment N: Test ML/DL Models with NEW dataset**\n",
        "\n",
        "\n",
        "\n"
      ]
    },
    {
      "cell_type": "markdown",
      "metadata": {
        "id": "wN6N-nWH-X2H"
      },
      "source": [
        "### **Import Packages**"
      ]
    },
    {
      "cell_type": "code",
      "metadata": {
        "id": "_3Dog7M2pOLK"
      },
      "source": [
        "#Install the package if it hasn't been installed on your colab before.\n",
        "#!pip install scikit-learn"
      ],
      "execution_count": null,
      "outputs": []
    },
    {
      "cell_type": "code",
      "metadata": {
        "id": "iBMcobPHdD8O",
        "outputId": "9e99b231-5ed9-4cf4-d691-3bb5a19fd45a",
        "colab": {
          "base_uri": "https://localhost:8080/",
          "height": 35
        }
      },
      "source": [
        "import tensorflow as tf\n",
        "import pandas as pd\n",
        "assert tf.__version__.startswith('2')\n",
        "\n",
        "import os\n",
        "import numpy as np\n",
        "import matplotlib.pyplot as plt\n",
        "\n",
        "%matplotlib inline\n",
        "from scipy import stats\n",
        "from sklearn.svm import SVC\n",
        "from sklearn.decomposition import PCA as RandomizedPCA\n",
        "from sklearn.pipeline import make_pipeline\n",
        "\n",
        "# use seaborn plotting defaults\n",
        "import seaborn as sns; sns.set_theme()\n",
        "\n",
        "tf.__version__"
      ],
      "execution_count": null,
      "outputs": [
        {
          "output_type": "execute_result",
          "data": {
            "application/vnd.google.colaboratory.intrinsic+json": {
              "type": "string"
            },
            "text/plain": [
              "'2.3.0'"
            ]
          },
          "metadata": {
            "tags": []
          },
          "execution_count": 111
        }
      ]
    },
    {
      "cell_type": "markdown",
      "metadata": {
        "id": "G97M9jHQ7zwL"
      },
      "source": [
        "### **Setting Up Input Connection To Google Drive**"
      ]
    },
    {
      "cell_type": "code",
      "metadata": {
        "id": "NOG3l_MsBO1A"
      },
      "source": [
        "!pip install -U -q PyDrive\n",
        "from pydrive.auth import GoogleAuth\n",
        "from pydrive.drive import GoogleDrive \n",
        "from google.colab import auth\n",
        "from oauth2client.client import GoogleCredentials"
      ],
      "execution_count": null,
      "outputs": []
    },
    {
      "cell_type": "markdown",
      "metadata": {
        "id": "0wESlgph8Spv"
      },
      "source": [
        "**Get google drive authentication code**"
      ]
    },
    {
      "cell_type": "code",
      "metadata": {
        "id": "qRMJwZLgveff"
      },
      "source": [
        "  auth.authenticate_user()\n",
        "  gauth = GoogleAuth()\n",
        "  gauth.credentials = GoogleCredentials.get_application_default()\n",
        "  drive = GoogleDrive(gauth)"
      ],
      "execution_count": null,
      "outputs": []
    },
    {
      "cell_type": "markdown",
      "metadata": {
        "id": "UDTcFS5-r6-d"
      },
      "source": [
        "**Set path to extract file from gdrive**"
      ]
    },
    {
      "cell_type": "code",
      "metadata": {
        "id": "mB_4vxYgvf4U"
      },
      "source": [
        "fid = drive.ListFile({'q':\"title='trashnet_dataset.zip'\"}).GetList()[0]['id']\n",
        "f = drive.CreateFile({'id': fid})\n",
        "f.GetContentFile('trashnet_dataset.zip')"
      ],
      "execution_count": null,
      "outputs": []
    },
    {
      "cell_type": "markdown",
      "metadata": {
        "id": "ApIeGN0ek08N"
      },
      "source": [
        "**Unzip the file from google drive**"
      ]
    },
    {
      "cell_type": "code",
      "metadata": {
        "id": "HGTCZJB4C_DD"
      },
      "source": [
        "!unzip \\*.zip  && rm *.zip "
      ],
      "execution_count": null,
      "outputs": []
    },
    {
      "cell_type": "markdown",
      "metadata": {
        "id": "v77rlkCKW0IJ"
      },
      "source": [
        "### **Setup Input Pipeline**\n",
        "Delete the .txt or .json files from Colab Files before running this code"
      ]
    },
    {
      "cell_type": "code",
      "metadata": {
        "id": "QsoXylQB_XOi",
        "outputId": "dc1a3c57-5e3d-48d2-aee7-d31c98dafdaf",
        "colab": {
          "base_uri": "https://localhost:8080/"
        }
      },
      "source": [
        "PATH = \"/content/trashnet_dataset\"\n",
        "dirs = os.listdir(PATH)\n",
        "for file in dirs:\n",
        "  print (file)"
      ],
      "execution_count": null,
      "outputs": [
        {
          "output_type": "stream",
          "text": [
            "cardboard\n",
            "plastic\n",
            "glass\n",
            "trash\n",
            "paper\n",
            "metal\n"
          ],
          "name": "stdout"
        }
      ]
    },
    {
      "cell_type": "markdown",
      "metadata": {
        "id": "zLKpGWqNApf_"
      },
      "source": [
        "**Dataset Summary**"
      ]
    },
    {
      "cell_type": "code",
      "metadata": {
        "id": "bp98nWfbGbvI",
        "outputId": "57491b34-fa6a-4ac4-aa2f-7d00bce5ffc4",
        "colab": {
          "base_uri": "https://localhost:8080/"
        }
      },
      "source": [
        "from pathlib import Path\n",
        "\n",
        "ds = len(dirs)\n",
        "data_dir = Path(PATH)\n",
        "image_count = len(list(data_dir.glob('*/*.jpg')))\n",
        "print(\"There are a total of \" + str(image_count) +\n",
        "      \" Images and \" + str(ds) + \" Classes in this dataset.\")"
      ],
      "execution_count": null,
      "outputs": [
        {
          "output_type": "stream",
          "text": [
            "There are a total of 2527 Images and 6 Classes in this dataset.\n"
          ],
          "name": "stdout"
        }
      ]
    },
    {
      "cell_type": "markdown",
      "metadata": {
        "id": "z4gTv7ig2vMh"
      },
      "source": [
        "### **Preparing the data**\n",
        "\n",
        "Use **`ImageDataGenerator`** to rescale the images to **train and validation generator**."
      ]
    },
    {
      "cell_type": "code",
      "metadata": {
        "id": "aCLb_yV5JfF3",
        "outputId": "4ae44b1a-e872-481a-ba1a-0a3dd4938acf",
        "colab": {
          "base_uri": "https://localhost:8080/"
        }
      },
      "source": [
        "IMAGE_SIZE = 224\n",
        "BATCH_SIZE = 32\n",
        "\n",
        "datagen = tf.keras.preprocessing.image.ImageDataGenerator(\n",
        "    rescale=1./255, \n",
        "    validation_split=0.3)\n",
        "\n",
        "train_generator = datagen.flow_from_directory(\n",
        "    PATH,\n",
        "    target_size=(IMAGE_SIZE, IMAGE_SIZE),\n",
        "    batch_size=BATCH_SIZE,\n",
        "    seed=20,\n",
        "    subset='training')\n",
        "\n",
        "val_generator = datagen.flow_from_directory(\n",
        "    PATH,\n",
        "    target_size=(IMAGE_SIZE, IMAGE_SIZE),\n",
        "    batch_size=BATCH_SIZE, \n",
        "    seed=20,\n",
        "    subset='validation')"
      ],
      "execution_count": null,
      "outputs": [
        {
          "output_type": "stream",
          "text": [
            "Found 1771 images belonging to 6 classes.\n",
            "Found 756 images belonging to 6 classes.\n"
          ],
          "name": "stdout"
        }
      ]
    },
    {
      "cell_type": "markdown",
      "metadata": {
        "id": "mdBq947M4ofN"
      },
      "source": [
        "**Extract converted ML Image/Label for the Training and Test data**"
      ]
    },
    {
      "cell_type": "code",
      "metadata": {
        "id": "tx1L7fxxWA_G",
        "outputId": "759c5169-d2a9-4ae4-8faa-6eb6073c2f1b",
        "colab": {
          "base_uri": "https://localhost:8080/"
        }
      },
      "source": [
        "for image_train, label_train in train_generator:\n",
        "  break\n",
        "Xtrain = image_train\n",
        "ytrain = label_train\n",
        "# Get Shape\n",
        "image_train.shape, label_train.shape"
      ],
      "execution_count": null,
      "outputs": [
        {
          "output_type": "execute_result",
          "data": {
            "text/plain": [
              "((32, 256, 256, 3), (32, 6))"
            ]
          },
          "metadata": {
            "tags": []
          },
          "execution_count": 227
        }
      ]
    },
    {
      "cell_type": "code",
      "metadata": {
        "id": "HuNzYXiATjrd",
        "outputId": "d718c8c4-0498-46df-e917-35cc6b077847",
        "colab": {
          "base_uri": "https://localhost:8080/"
        }
      },
      "source": [
        "for image_test, label_test in val_generator:\n",
        "  break\n",
        "Xtest = image_test\n",
        "ytest = label_test\n",
        "# Get Shape\n",
        "image_test.shape, label_test.shape"
      ],
      "execution_count": null,
      "outputs": [
        {
          "output_type": "execute_result",
          "data": {
            "text/plain": [
              "((32, 256, 256, 3), (32, 6))"
            ]
          },
          "metadata": {
            "tags": []
          },
          "execution_count": 228
        }
      ]
    },
    {
      "cell_type": "markdown",
      "metadata": {
        "id": "j-SzEh8z7N0n"
      },
      "source": [
        "**Visualise the data**"
      ]
    },
    {
      "cell_type": "code",
      "metadata": {
        "id": "-SIxky_I59pH",
        "outputId": "de6567f3-2e6f-4600-bb60-e05a75cf1169",
        "colab": {
          "base_uri": "https://localhost:8080/"
        }
      },
      "source": [
        "sample_training_images, _ = next(train_generator)\n",
        "\n",
        "def plotImages(images_arr):\n",
        "    fig, axes = plt.subplots(1, 20, figsize=(10,10))\n",
        "    axes = axes.flatten()\n",
        "    for img, ax in zip( images_arr, axes):\n",
        "        ax.imshow(img)\n",
        "        ax.axis('off')\n",
        "    plt.tight_layout\n",
        "    plt.show()\n",
        "\n",
        "plotImages(sample_training_images[:20])"
      ],
      "execution_count": null,
      "outputs": [
        {
          "output_type": "display_data",
          "data": {
            "image/png": "[encoded data removed]",
            "text/plain": [
              "<Figure size 720x720 with 20 Axes>"
            ]
          },
          "metadata": {
            "tags": []
          }
        }
      ]
    },
    {
      "cell_type": "markdown",
      "metadata": {
        "id": "ZrFFcwUb3iK9"
      },
      "source": [
        "**Save the labels in a file which will be downloaded later.**"
      ]
    },
    {
      "cell_type": "code",
      "metadata": {
        "id": "-QFZIhWs4dsq",
        "outputId": "70c6e6cd-03eb-4679-db90-ff772f929744",
        "colab": {
          "base_uri": "https://localhost:8080/"
        }
      },
      "source": [
        "print (train_generator.class_indices)\n",
        "wastelabels = '\\n'.join(sorted(train_generator.class_indices.keys()))\n",
        "with open('wastelabels.txt', 'w') as f:\n",
        "  f.write(wastelabels)"
      ],
      "execution_count": null,
      "outputs": [
        {
          "output_type": "stream",
          "text": [
            "{'cardboard': 0, 'glass': 1, 'metal': 2, 'paper': 3, 'plastic': 4, 'trash': 5}\n"
          ],
          "name": "stdout"
        }
      ]
    },
    {
      "cell_type": "code",
      "metadata": {
        "id": "duxD_UDSOmng",
        "outputId": "0f3e472f-c75b-404a-a34d-386098650adf",
        "colab": {
          "base_uri": "https://localhost:8080/"
        }
      },
      "source": [
        "!cat wastelabels.txt"
      ],
      "execution_count": null,
      "outputs": [
        {
          "output_type": "stream",
          "text": [
            "cardboard\n",
            "glass\n",
            "metal\n",
            "paper\n",
            "plastic\n",
            "trash"
          ],
          "name": "stdout"
        }
      ]
    },
    {
      "cell_type": "code",
      "metadata": {
        "id": "_jupNfGwQgHM",
        "outputId": "0761c8dc-40fe-4482-b913-2ac9aae5a522",
        "colab": {
          "base_uri": "https://localhost:8080/"
        }
      },
      "source": [
        "ab = sorted(train_generator.class_indices.keys())\n",
        "label_names =np.array(list(ab))\n",
        "kb = sorted(val_generator.class_indices.keys())\n",
        "labelval_names =np.array(list(kb))\n",
        "type(labelval_names)"
      ],
      "execution_count": null,
      "outputs": [
        {
          "output_type": "execute_result",
          "data": {
            "text/plain": [
              "numpy.ndarray"
            ]
          },
          "metadata": {
            "tags": []
          },
          "execution_count": 232
        }
      ]
    },
    {
      "cell_type": "markdown",
      "metadata": {
        "id": "WFMzPm9d8AF3"
      },
      "source": [
        "## **Experiment 2: ``State-of-the-art`` Model**\n"
      ]
    },
    {
      "cell_type": "markdown",
      "metadata": {
        "id": "CPQcbGeD9Smm"
      },
      "source": [
        "**Reshaping the Train and Test data**"
      ]
    },
    {
      "cell_type": "code",
      "metadata": {
        "id": "os3kQlaAkIiH"
      },
      "source": [
        "# When using size 224 reshape with (32*6,112*224)\n",
        "# When using size 256 reshape with (32*6,128*256)\n",
        "\n",
        "X_train = Xtrain.reshape(32*6,112*224)\n",
        "X_test = Xtest.reshape(32*6,112*224)\n",
        "\n",
        "y_train = ytrain.flatten()\n",
        "y_test = ytest.flatten()"
      ],
      "execution_count": null,
      "outputs": []
    },
    {
      "cell_type": "markdown",
      "metadata": {
        "id": "egpZKJoSq_ul"
      },
      "source": [
        "**Support Vector Machine (SVM)**"
      ]
    },
    {
      "cell_type": "code",
      "metadata": {
        "id": "R6bdW4JNq9Ye"
      },
      "source": [
        "#Create a svm Classifier\n",
        "clf = SVC(kernel='linear') # Linear Kernel\n",
        "\n",
        "#Train the model using the training sets\n",
        "clf.fit(X_train, y_train)\n",
        "\n",
        "#Predict the response for test dataset\n",
        "y_pred = clf.predict(X_test)"
      ],
      "execution_count": null,
      "outputs": []
    },
    {
      "cell_type": "markdown",
      "metadata": {
        "id": "B2Y5LvrJhCmb"
      },
      "source": [
        "**Evaluation Metrics**"
      ]
    },
    {
      "cell_type": "code",
      "metadata": {
        "id": "J1il7i0IMb60",
        "outputId": "a148fc01-f631-4fb0-cf02-7b76d2a4782d",
        "colab": {
          "base_uri": "https://localhost:8080/",
          "height": 87
        }
      },
      "source": [
        "# Import scikit-learn metrics module for accuracy calculation\n",
        "from sklearn import metrics\n",
        "\n",
        "# SVM Model Accuracy: how often is the classifier correct?\n",
        "print(\"Accuracy:\",metrics.accuracy_score(y_test, y_pred))\n",
        "# SVM Model Precision\n",
        "print(\"\\nPrecision:\",metrics.precision_score(y_test, y_pred))\n",
        "# SVM Model Recall\n",
        "print(\"Recall:\",metrics.recall_score(y_test, y_pred))"
      ],
      "execution_count": null,
      "outputs": [
        {
          "output_type": "stream",
          "text": [
            "Accuracy: 0.6875\n",
            "\n",
            "Precision: 0.20833333333333334\n",
            "Recall: 0.3125\n"
          ],
          "name": "stdout"
        }
      ]
    },
    {
      "cell_type": "markdown",
      "metadata": {
        "id": "_IgPiBuXosnf"
      },
      "source": [
        "**Converting numerical labels to categorical format**"
      ]
    },
    {
      "cell_type": "code",
      "metadata": {
        "id": "nWmKivlyiLH2"
      },
      "source": [
        "def ToCategory(zz):\n",
        "    bb=0\n",
        "    jj=list()\n",
        "    \n",
        "    for n in zz:\n",
        "        if (n == [1., 0., 0., 0., 0., 0.]):\n",
        "            bb = 0\n",
        "        if (n == [0., 1., 0., 0., 0., 0.]):\n",
        "            bb = 1\n",
        "        if (n == [0., 0., 1., 0., 0., 0.]):\n",
        "            bb = 2\n",
        "        if (n == [0., 0., 0., 1., 0., 0.]):\n",
        "            bb = 3\n",
        "        if (n == [0., 0., 0., 0., 1., 0.]):\n",
        "            bb = 4\n",
        "        if (n == [0., 0., 0., 0., 0., 1.]):\n",
        "            bb = 5\n",
        "        jj.append(bb)\n",
        "    kk = np.asarray(jj)\n",
        "    return kk\n",
        "\n",
        "# Convert test label to category format\n",
        "cc = ytest.tolist()\n",
        "yTEST = ToCategory(cc)"
      ],
      "execution_count": null,
      "outputs": []
    },
    {
      "cell_type": "markdown",
      "metadata": {
        "id": "6yebeMbJ_SvB"
      },
      "source": [
        "**Display the confusion matrix between the classes**"
      ]
    },
    {
      "cell_type": "code",
      "metadata": {
        "id": "XyIcez6A_Mzf",
        "outputId": "af9b3556-b505-4d22-d853-942e0bc02711",
        "colab": {
          "base_uri": "https://localhost:8080/",
          "height": 335
        }
      },
      "source": [
        "from sklearn.metrics import confusion_matrix\n",
        "\n",
        "# Convert prediction label to category format\n",
        "yy = y_pred.reshape(32,6)\n",
        "dd = yy.tolist()\n",
        "yPRED = ToCategory(dd)\n",
        "\n",
        "mat = confusion_matrix(yTEST, yPRED)\n",
        "sns.heatmap(mat.T, square=True, annot=True, fmt='d', cmap=\"YlGnBu\", cbar=True,\n",
        "            xticklabels=label_names,\n",
        "            yticklabels=label_names)\n",
        "plt.xlabel('true label')\n",
        "plt.ylabel('predicted label');"
      ],
      "execution_count": null,
      "outputs": [
        {
          "output_type": "display_data",
          "data": {
            "image/png": "[encoded data removed]",
            "text/plain": [
              "<Figure size 432x288 with 2 Axes>"
            ]
          },
          "metadata": {
            "tags": []
          }
        }
      ]
    },
    {
      "cell_type": "markdown",
      "metadata": {
        "id": "xxQtGdz6ladc"
      },
      "source": [
        "### **Using PCA (feature extraction) + SVM (classifier) Model**"
      ]
    },
    {
      "cell_type": "code",
      "metadata": {
        "id": "z_4shrmm8A0E"
      },
      "source": [
        "# Set PCA for feature extraction\n",
        "pca = RandomizedPCA(n_components=150, whiten=True, random_state=42)\n",
        "# Set SVM for classification\n",
        "svc = SVC(kernel='rbf', class_weight='balanced')\n",
        "# Setup the model\n",
        "svm_model = make_pipeline(pca, svc)"
      ],
      "execution_count": null,
      "outputs": []
    },
    {
      "cell_type": "markdown",
      "metadata": {
        "id": "A86w5Ug4OuCS"
      },
      "source": [
        "Use **``grid search cross-validation``** to explore combinations of parameters.\n",
        "Here we will adjust **``C``** (which controls the margin hardness) and **``gamma``** (which controls the size of the radial basis function kernel), and determine the best model:"
      ]
    },
    {
      "cell_type": "code",
      "metadata": {
        "id": "16ReIJeyOuCT",
        "outputId": "81549215-737c-4cc7-a4d3-2b717a931490",
        "colab": {
          "base_uri": "https://localhost:8080/",
          "height": 69
        }
      },
      "source": [
        "from sklearn.model_selection import GridSearchCV\n",
        "param_grid = {'svc__C': [1, 5, 10, 50],\n",
        "              'svc__gamma': [0.0001, 0.0005, 0.001, 0.005]}\n",
        "\n",
        "grid = GridSearchCV(svm_model, param_grid, cv=5)\n",
        "\n",
        "%time grid.fit(X_train, y_train)\n",
        "print(grid.best_params_)"
      ],
      "execution_count": null,
      "outputs": [
        {
          "output_type": "stream",
          "text": [
            "CPU times: user 1min 58s, sys: 16.1 s, total: 2min 14s\n",
            "Wall time: 1min 8s\n",
            "{'svc__C': 5, 'svc__gamma': 0.005}\n"
          ],
          "name": "stdout"
        }
      ]
    },
    {
      "cell_type": "markdown",
      "metadata": {
        "id": "CY1pSbNkOuCV"
      },
      "source": [
        "**``The optimal values from the grid search falls toward the middle of the grid``**\n",
        "\n",
        "**Using the cross-validated model** - Predict the labels for the test data, which the model has not yet seen."
      ]
    },
    {
      "cell_type": "code",
      "metadata": {
        "id": "QQ87wRLBOuCV"
      },
      "source": [
        "svm_model = grid.best_estimator_\n",
        "yfit = svm_model.predict(X_test)"
      ],
      "execution_count": null,
      "outputs": []
    },
    {
      "cell_type": "markdown",
      "metadata": {
        "id": "nUb2kY1-l_eJ"
      },
      "source": [
        "**Evaluation Metrics**"
      ]
    },
    {
      "cell_type": "code",
      "metadata": {
        "id": "ECxsu10JlAXc",
        "outputId": "46064326-0684-4572-ede7-a5a3f402d9c4",
        "colab": {
          "base_uri": "https://localhost:8080/",
          "height": 34
        }
      },
      "source": [
        "# Import scikit-learn metrics module for accuracy calculation\n",
        "from sklearn import metrics\n",
        "\n",
        "# Model Accuracy: how often is the classifier correct?\n",
        "print(\"Accuracy:\",metrics.accuracy_score(y_test, yfit))"
      ],
      "execution_count": null,
      "outputs": [
        {
          "output_type": "stream",
          "text": [
            "Accuracy: 0.765625\n"
          ],
          "name": "stdout"
        }
      ]
    },
    {
      "cell_type": "markdown",
      "metadata": {
        "id": "cO7I3M07Xwkq"
      },
      "source": [
        "**Using the classification report we evaluate the estimator's performance**"
      ]
    },
    {
      "cell_type": "code",
      "metadata": {
        "id": "kSfXSxts8quX",
        "outputId": "dd546dcc-c614-478a-a005-aad726b53313",
        "colab": {
          "base_uri": "https://localhost:8080/",
          "height": 244
        }
      },
      "source": [
        "from sklearn.metrics import classification_report\n",
        "\n",
        "# Convert prediction label to category format\n",
        "gg = yfit.reshape(32,6)\n",
        "pp = gg.tolist()\n",
        "yFIT = ToCategory(pp)\n",
        "\n",
        "print(classification_report(yTEST, yFIT, target_names=label_names))"
      ],
      "execution_count": null,
      "outputs": [
        {
          "output_type": "stream",
          "text": [
            "              precision    recall  f1-score   support\n",
            "\n",
            "   cardboard       0.25      0.50      0.33         4\n",
            "       glass       0.12      0.14      0.13         7\n",
            "       metal       0.00      0.00      0.00         5\n",
            "       paper       0.25      0.25      0.25         4\n",
            "     plastic       0.00      0.00      0.00        11\n",
            "       trash       0.00      0.00      0.00         1\n",
            "\n",
            "    accuracy                           0.12        32\n",
            "   macro avg       0.10      0.15      0.12        32\n",
            "weighted avg       0.09      0.12      0.10        32\n",
            "\n"
          ],
          "name": "stdout"
        }
      ]
    },
    {
      "cell_type": "markdown",
      "metadata": {
        "id": "i2erFrd3OuCb"
      },
      "source": [
        "**Display the confusion matrix between the classes**"
      ]
    },
    {
      "cell_type": "code",
      "metadata": {
        "id": "OtcgkZ4C8rAL",
        "outputId": "81efe96f-4afe-4b8b-e323-6d92e461b1bf",
        "colab": {
          "base_uri": "https://localhost:8080/",
          "height": 335
        }
      },
      "source": [
        "from sklearn.metrics import confusion_matrix\n",
        "mat = confusion_matrix(yTEST, yFIT)\n",
        "sns.heatmap(mat.T, square=True, annot=True, fmt='d', cmap=\"YlGnBu\", cbar=True,\n",
        "            xticklabels=label_names,\n",
        "            yticklabels=label_names)\n",
        "plt.xlabel('true label')\n",
        "plt.ylabel('predicted label');"
      ],
      "execution_count": null,
      "outputs": [
        {
          "output_type": "display_data",
          "data": {
            "image/png": "[encoded data removed]",
            "text/plain": [
              "<Figure size 432x288 with 2 Axes>"
            ]
          },
          "metadata": {
            "tags": []
          }
        }
      ]
    },
    {
      "cell_type": "markdown",
      "metadata": {
        "id": "uoKBG9pWh_7a"
      },
      "source": [
        "### Summary:\n",
        "\n",
        "* **Model**: State-of-the-art Model (SVM)\n",
        "* **Size**:\n",
        "* **Loss**: \n",
        "* **Latency**:\n",
        "* **Training Time**:"
      ]
    },
    {
      "cell_type": "markdown",
      "metadata": {
        "id": "Q1MhQi7LhzYO"
      },
      "source": [
        "## **Experiment 3: ``MobileNetV2`` Model**"
      ]
    },
    {
      "cell_type": "markdown",
      "metadata": {
        "id": "OkH-kazQecHB"
      },
      "source": [
        "### **Create base model from the pre-trained convnets**\n",
        "\n",
        "We instantiate a **`MobileNetV2`** model pre-loaded with weights trained on ImageNet. By specifying the **`include_top=False`** argument, we load a network that doesn't include the classification layers at the top, which is ideal for feature extraction."
      ]
    },
    {
      "cell_type": "code",
      "metadata": {
        "id": "HsB2hWSYaFGc"
      },
      "source": [
        "IMG_SHAPE = (IMAGE_SIZE, IMAGE_SIZE, 3)\n",
        "\n",
        "base_model_3 = tf.keras.applications.MobileNetV2(input_shape=IMG_SHAPE,\n",
        "                                              include_top=False, \n",
        "                                              weights='imagenet')\n",
        "\n",
        "print(\"\\n Your selected Model has an input size of {} \".format(IMG_SHAPE))"
      ],
      "execution_count": null,
      "outputs": []
    },
    {
      "cell_type": "markdown",
      "metadata": {
        "id": "rlx56nQtfe8Y"
      },
      "source": [
        "### **Feature extraction**"
      ]
    },
    {
      "cell_type": "markdown",
      "metadata": {
        "id": "-2zu78cK3aSl"
      },
      "source": [
        "Freeze the convolutional base created from the previous step and use that as a feature extractor, add a classifier on top of it and train the top-level classifier."
      ]
    },
    {
      "cell_type": "code",
      "metadata": {
        "id": "Tts8BbAtRGvk"
      },
      "source": [
        "base_model_3.trainable = False"
      ],
      "execution_count": null,
      "outputs": []
    },
    {
      "cell_type": "markdown",
      "metadata": {
        "id": "wdMRM8YModbk"
      },
      "source": [
        "**Add a classification head**"
      ]
    },
    {
      "cell_type": "code",
      "metadata": {
        "id": "eApvroIyn1K0"
      },
      "source": [
        "mnv2_model = tf.keras.Sequential([\n",
        "  base_model_3,\n",
        "  tf.keras.layers.Conv2D(32, 3, activation='relu'),\n",
        "  tf.keras.layers.Dropout(0.2),\n",
        "  tf.keras.layers.GlobalAveragePooling2D(),\n",
        "  tf.keras.layers.Dense(6, activation='softmax')\n",
        "])"
      ],
      "execution_count": null,
      "outputs": []
    },
    {
      "cell_type": "markdown",
      "metadata": {
        "id": "g0ylJXE_kRLi"
      },
      "source": [
        "**Compile the model**\n",
        "\n",
        "You must compile the model before training it.  Since there are multiple classes, use a categorical cross-entropy loss."
      ]
    },
    {
      "cell_type": "code",
      "metadata": {
        "id": "RpR8HdyMhukJ"
      },
      "source": [
        "mnv2_model.compile(optimizer=tf.keras.optimizers.Adam(), \n",
        "              loss='categorical_crossentropy', \n",
        "              metrics=['accuracy'])"
      ],
      "execution_count": null,
      "outputs": []
    },
    {
      "cell_type": "code",
      "metadata": {
        "id": "I8ARiyMFsgbH"
      },
      "source": [
        "mnv2_model.summary()"
      ],
      "execution_count": null,
      "outputs": []
    },
    {
      "cell_type": "code",
      "metadata": {
        "id": "krvBumovycVA"
      },
      "source": [
        "print('Number of trainable variables = {}'.format(len(mnv2_model.trainable_variables)))"
      ],
      "execution_count": null,
      "outputs": []
    },
    {
      "cell_type": "markdown",
      "metadata": {
        "id": "RxvgOYTDSWTx"
      },
      "source": [
        "### **Train the model**\n",
        "\n",
        "<!-- TODO(markdaoust): delete steps_per_epoch in TensorFlow r1.14/r2.0 -->"
      ]
    },
    {
      "cell_type": "code",
      "metadata": {
        "id": "JsaRFlZ9B6WK"
      },
      "source": [
        "epochs = 10\n",
        "history_3 = mnv2_model.fit(train_generator, \n",
        "                    steps_per_epoch=len(train_generator), \n",
        "                    epochs=epochs, \n",
        "                    validation_data=val_generator, \n",
        "                    validation_steps=len(val_generator))"
      ],
      "execution_count": null,
      "outputs": []
    },
    {
      "cell_type": "markdown",
      "metadata": {
        "id": "Hd94CKImf8vi"
      },
      "source": [
        "**Plot learning curves of the training and validation accuracy/loss**\n",
        "\n",
        "Let's take a look at the learning curves of the training and validation accuracy/loss when using the base model as a fixed feature extractor. "
      ]
    },
    {
      "cell_type": "code",
      "metadata": {
        "id": "53OTCh3jnbwV"
      },
      "source": [
        "acc = history_3.history['accuracy']\n",
        "val_acc = history_3.history['val_accuracy']\n",
        "\n",
        "loss = history_3.history['loss']\n",
        "val_loss = history_3.history['val_loss']\n",
        "\n",
        "plt.figure(figsize=(8, 8))\n",
        "plt.subplot(2, 1, 1)\n",
        "plt.plot(acc, label='Training Accuracy')\n",
        "plt.plot(val_acc, label='Validation Accuracy')\n",
        "plt.legend(loc='lower right')\n",
        "plt.ylabel('Accuracy')\n",
        "plt.ylim([min(plt.ylim()),1])\n",
        "plt.title('Training and Validation Accuracy')\n",
        "\n",
        "plt.subplot(2, 1, 2)\n",
        "plt.plot(loss, label='Training Loss')\n",
        "plt.plot(val_loss, label='Validation Loss')\n",
        "plt.legend(loc='upper right')\n",
        "plt.ylabel('Cross Entropy')\n",
        "plt.ylim([0,1.0])\n",
        "plt.title('Training and Validation Loss')\n",
        "plt.xlabel('epoch')\n",
        "plt.show()"
      ],
      "execution_count": null,
      "outputs": []
    },
    {
      "cell_type": "markdown",
      "metadata": {
        "id": "CqwV-CRdS6Nv"
      },
      "source": [
        "### **Fine tuning**"
      ]
    },
    {
      "cell_type": "markdown",
      "metadata": {
        "id": "NrR4Xkr_sBx6"
      },
      "source": [
        "To increase performance we'll train (or \"fine-tune\") the weights of the top layers of the pre-trained model alongside the training of the added classifier. The training process will force the weights to be tuned from generic features maps to features associated specifically to our dataset."
      ]
    },
    {
      "cell_type": "markdown",
      "metadata": {
        "id": "CPXnzUK0QonF"
      },
      "source": [
        "**Un-freeze the top layers of the model**\n",
        "\n",
        "Unfreeze the `base_model` and set the bottom layers be un-trainable. Then, recompile the model (necessary for these changes to take effect), and resume training."
      ]
    },
    {
      "cell_type": "code",
      "metadata": {
        "id": "-4HgVAacRs5v"
      },
      "source": [
        "base_model_3.trainable = True\n",
        "\n",
        "# Let's take a look to see how many layers are in the base model\n",
        "print(\"Number of layers in the base model: \", len(base_model_3.layers))\n",
        "\n",
        "# Fine tune from this layer onwards\n",
        "fine_tune_at = 100\n",
        "\n",
        "# Freeze all the layers before the `fine_tune_at` layer\n",
        "for layer in base_model_3.layers[:fine_tune_at]:\n",
        "  layer.trainable =  False"
      ],
      "execution_count": null,
      "outputs": []
    },
    {
      "cell_type": "markdown",
      "metadata": {
        "id": "4Uk1dgsxT0IS"
      },
      "source": [
        "**Compile the model** - using a much lower training rate."
      ]
    },
    {
      "cell_type": "code",
      "metadata": {
        "id": "NtUnaz0WUDva"
      },
      "source": [
        "mnv2_model.compile(loss='categorical_crossentropy',\n",
        "              optimizer = tf.keras.optimizers.Adam(1e-5),\n",
        "              metrics=['accuracy'])"
      ],
      "execution_count": null,
      "outputs": []
    },
    {
      "cell_type": "markdown",
      "metadata": {
        "id": "GZz4A-p405SE"
      },
      "source": [
        "**Model Summary**"
      ]
    },
    {
      "cell_type": "code",
      "metadata": {
        "id": "WwBWy7J2kZvA"
      },
      "source": [
        "mnv2_model.summary()"
      ],
      "execution_count": null,
      "outputs": []
    },
    {
      "cell_type": "code",
      "metadata": {
        "id": "bNXelbMQtonr"
      },
      "source": [
        "print('Number of trainable variables = {}'.format(len(mnv2_model.trainable_variables)))"
      ],
      "execution_count": null,
      "outputs": []
    },
    {
      "cell_type": "markdown",
      "metadata": {
        "id": "4G5O4jd6TuAG"
      },
      "source": [
        "### **Complete model training**"
      ]
    },
    {
      "cell_type": "code",
      "metadata": {
        "id": "ECQLkAsFTlun"
      },
      "source": [
        "history_fine3 = mnv2_model.fit(train_generator, \n",
        "                         steps_per_epoch=len(train_generator), \n",
        "                         epochs=20, \n",
        "                         validation_data=val_generator, \n",
        "                         validation_steps=len(val_generator))"
      ],
      "execution_count": null,
      "outputs": []
    },
    {
      "cell_type": "markdown",
      "metadata": {
        "id": "TfXEmsxQf6eP"
      },
      "source": [
        "**Plot learning curves of the training and validation accuracy/loss**"
      ]
    },
    {
      "cell_type": "code",
      "metadata": {
        "id": "chW103JUItdk"
      },
      "source": [
        "acc = history_fine_3.history['accuracy']\n",
        "val_acc = history_fine_3.history['val_accuracy']\n",
        "\n",
        "loss = history_fine_3.history['loss']\n",
        "val_loss = history_fine_3.history['val_loss']\n",
        "\n",
        "plt.figure(figsize=(8, 8))\n",
        "plt.subplot(2, 1, 1)\n",
        "plt.plot(acc, label='Training Accuracy')\n",
        "plt.plot(val_acc, label='Validation Accuracy')\n",
        "plt.legend(loc='lower right')\n",
        "plt.ylabel('Accuracy')\n",
        "plt.ylim([min(plt.ylim()),1])\n",
        "plt.title('Training and Validation Accuracy')\n",
        "\n",
        "plt.subplot(2, 1, 2)\n",
        "plt.plot(loss, label='Training Loss')\n",
        "plt.plot(val_loss, label='Validation Loss')\n",
        "plt.legend(loc='upper right')\n",
        "plt.ylabel('Cross Entropy')\n",
        "plt.ylim([0,1.0])\n",
        "plt.title('Training and Validation Loss')\n",
        "plt.xlabel('epoch')\n",
        "plt.show()"
      ],
      "execution_count": null,
      "outputs": []
    },
    {
      "cell_type": "markdown",
      "metadata": {
        "id": "kRDabW_u1wnv"
      },
      "source": [
        "### **Convert to TFLite**"
      ]
    },
    {
      "cell_type": "markdown",
      "metadata": {
        "id": "hNvMl6CM6lG4"
      },
      "source": [
        "Saved the model using **`tf.saved_model.save`**"
      ]
    },
    {
      "cell_type": "code",
      "metadata": {
        "id": "_LZiKVInWNGy"
      },
      "source": [
        "saved_model_dir = 'save/fine_tuning'\n",
        "tf.saved_model.save(mnv2_model, saved_model_dir)\n",
        "\n",
        "converter = tf.lite.TFLiteConverter.from_saved_model(saved_model_dir)"
      ],
      "execution_count": null,
      "outputs": []
    },
    {
      "cell_type": "markdown",
      "metadata": {
        "id": "PuoKK0JGvIyX"
      },
      "source": [
        "**Post-Training Quantization**\n",
        "\n",
        "This technique is enabled as an option in the TensorFlow Lite converter to reduce the precision of the numbers in weight and biases in the model.\n",
        "\n",
        "The simplest form of post-training quantization quantizes weights from floating point to 8-bits of precision. At inference, weights are converted from 8-bits of precision to floating point and computed using floating-point kernels. This conversion is done once and cached to reduce latency.\n",
        "\n",
        "To further improve latency, hybrid operators dynamically quantize activations to 8-bits and perform computations with 8-bit weights and activations. This optimization provides latencies close to fully fixed-point inference. However, the outputs are still stored using floating point, so that the speedup with hybrid ops is less than a full fixed-point computation."
      ]
    },
    {
      "cell_type": "code",
      "metadata": {
        "id": "e-MHkANQqKRS"
      },
      "source": [
        "converter.optimizations = [tf.lite.Optimize.DEFAULT]"
      ],
      "execution_count": null,
      "outputs": []
    },
    {
      "cell_type": "markdown",
      "metadata": {
        "id": "1RjcPuCayJJD"
      },
      "source": [
        "**Convert the saved model to a TF lite compatible format**"
      ]
    },
    {
      "cell_type": "code",
      "metadata": {
        "id": "QarV5r-KqKiZ"
      },
      "source": [
        "tflite_model_3 = converter.convert()\n",
        "\n",
        "with open('mnv2_model.tflite', 'wb') as f:\n",
        "  f.write(tflite_model_3)"
      ],
      "execution_count": null,
      "outputs": []
    },
    {
      "cell_type": "markdown",
      "metadata": {
        "id": "GE4w-9S410Dk"
      },
      "source": [
        "**Download the converted model and labels**"
      ]
    },
    {
      "cell_type": "code",
      "metadata": {
        "id": "x47uW_lI1DoV"
      },
      "source": [
        "from google.colab import files\n",
        "\n",
        "files.download('mnv2_model.tflite')\n",
        "files.download('wastelabels.txt')"
      ],
      "execution_count": null,
      "outputs": []
    },
    {
      "cell_type": "markdown",
      "metadata": {
        "id": "_TZTwG7nhm0C"
      },
      "source": [
        "### Summary:\n",
        "\n",
        "* **Model**: MobileNetV2 Model\n",
        "* **Size**:\n",
        "* **Loss**: \n",
        "* **Latency**:\n",
        "* **Training Time**:"
      ]
    },
    {
      "cell_type": "markdown",
      "metadata": {
        "id": "I7H1Zox06MB9"
      },
      "source": [
        "## **Experiment 4: ``EfficientNet`` Model**"
      ]
    },
    {
      "cell_type": "markdown",
      "metadata": {
        "id": "FoQ3wlOC6MB_"
      },
      "source": [
        "### **Create base model from the pre-trained convnets**\n",
        "\n",
        "We instantiate a **`EfficientNet`** model pre-loaded with weights trained on ImageNet. By specifying the **`include_top=False`** argument, we load a network that doesn't include the classification layers at the top, which is ideal for feature extraction."
      ]
    },
    {
      "cell_type": "code",
      "metadata": {
        "id": "3WfE2evz6MCB"
      },
      "source": [
        "IMG_SHAPE = (IMAGE_SIZE, IMAGE_SIZE, 3)\n",
        "\n",
        "base_model_4 = tf.keras.applications.EfficientNetB7(input_shape=IMG_SHAPE,\n",
        "                                              include_top=False, \n",
        "                                              weights='imagenet')\n",
        "\n",
        "print(\"\\n Your selected Model has an input size of {} \".format(IMG_SHAPE))"
      ],
      "execution_count": null,
      "outputs": []
    },
    {
      "cell_type": "markdown",
      "metadata": {
        "id": "BgQgwhhg6MCE"
      },
      "source": [
        "### **Feature extraction**"
      ]
    },
    {
      "cell_type": "markdown",
      "metadata": {
        "id": "AX-5DUSg6MCF"
      },
      "source": [
        "Freeze the convolutional base created from the previous step and use that as a feature extractor, add a classifier on top of it and train the top-level classifier."
      ]
    },
    {
      "cell_type": "code",
      "metadata": {
        "id": "00Dl8u5B6MCF"
      },
      "source": [
        "base_model_4.trainable = False"
      ],
      "execution_count": null,
      "outputs": []
    },
    {
      "cell_type": "markdown",
      "metadata": {
        "id": "kLIU0Np76MCJ"
      },
      "source": [
        "**Add a classification head**"
      ]
    },
    {
      "cell_type": "code",
      "metadata": {
        "id": "3odwKMUR6MCJ"
      },
      "source": [
        "efn_model = tf.keras.Sequential([\n",
        "  base_model_4,\n",
        "  tf.keras.layers.Conv2D(32, 3, activation='relu'),\n",
        "  tf.keras.layers.Dropout(0.2),\n",
        "  tf.keras.layers.GlobalAveragePooling2D(),\n",
        "  tf.keras.layers.Dense(6, activation='softmax')\n",
        "])"
      ],
      "execution_count": null,
      "outputs": []
    },
    {
      "cell_type": "markdown",
      "metadata": {
        "id": "J1cFQKoH6MCL"
      },
      "source": [
        "**Compile the model**\n",
        "\n",
        "You must compile the model before training it.  Since there are multiple classes, use a categorical cross-entropy loss."
      ]
    },
    {
      "cell_type": "code",
      "metadata": {
        "id": "oRbzC7GC6MCL"
      },
      "source": [
        "efn_model.compile(optimizer=tf.keras.optimizers.Adam(), \n",
        "              loss='categorical_crossentropy', \n",
        "              metrics=['accuracy'])"
      ],
      "execution_count": null,
      "outputs": []
    },
    {
      "cell_type": "code",
      "metadata": {
        "id": "xYtAHke06MCN"
      },
      "source": [
        "efn_model.summary()"
      ],
      "execution_count": null,
      "outputs": []
    },
    {
      "cell_type": "code",
      "metadata": {
        "id": "FxIg9hV26MCO"
      },
      "source": [
        "print('Number of trainable variables = {}'.format(len(efn_model.trainable_variables)))"
      ],
      "execution_count": null,
      "outputs": []
    },
    {
      "cell_type": "markdown",
      "metadata": {
        "id": "1r8huMar6MCR"
      },
      "source": [
        "### **Train the model**\n",
        "\n",
        "<!-- TODO(markdaoust): delete steps_per_epoch in TensorFlow r1.14/r2.0 -->"
      ]
    },
    {
      "cell_type": "code",
      "metadata": {
        "id": "ZK8qzW7H6MCR"
      },
      "source": [
        "epochs = 10\n",
        "\n",
        "history_4 = efn_model.fit(train_generator, \n",
        "                    steps_per_epoch=len(train_generator), \n",
        "                    epochs=epochs, \n",
        "                    validation_data=val_generator, \n",
        "                    validation_steps=len(val_generator))"
      ],
      "execution_count": null,
      "outputs": []
    },
    {
      "cell_type": "markdown",
      "metadata": {
        "id": "yUojXsfj6MCU"
      },
      "source": [
        "**Plot learning curves of the training and validation accuracy/loss**\n",
        "\n",
        "Let's take a look at the learning curves of the training and validation accuracy/loss when using the base model as a fixed feature extractor. "
      ]
    },
    {
      "cell_type": "code",
      "metadata": {
        "id": "Z1P_C2df6MCV"
      },
      "source": [
        "acc = history_4.history['accuracy']\n",
        "val_acc = history_4.history['val_accuracy']\n",
        "\n",
        "loss = history_4.history['loss']\n",
        "val_loss = history_4.history['val_loss']\n",
        "\n",
        "plt.figure(figsize=(8, 8))\n",
        "plt.subplot(2, 1, 1)\n",
        "plt.plot(acc, label='Training Accuracy')\n",
        "plt.plot(val_acc, label='Validation Accuracy')\n",
        "plt.legend(loc='lower right')\n",
        "plt.ylabel('Accuracy')\n",
        "plt.ylim([min(plt.ylim()),1])\n",
        "plt.title('Training and Validation Accuracy')\n",
        "\n",
        "plt.subplot(2, 1, 2)\n",
        "plt.plot(loss, label='Training Loss')\n",
        "plt.plot(val_loss, label='Validation Loss')\n",
        "plt.legend(loc='upper right')\n",
        "plt.ylabel('Cross Entropy')\n",
        "plt.ylim([0,1.0])\n",
        "plt.title('Training and Validation Loss')\n",
        "plt.xlabel('epoch')\n",
        "plt.show()"
      ],
      "execution_count": null,
      "outputs": []
    },
    {
      "cell_type": "markdown",
      "metadata": {
        "id": "SjebQ0hH6MCY"
      },
      "source": [
        "### **Fine tuning**"
      ]
    },
    {
      "cell_type": "markdown",
      "metadata": {
        "id": "YJIk-Sye6MCY"
      },
      "source": [
        "To increase performance we'll train (or \"fine-tune\") the weights of the top layers of the pre-trained model alongside the training of the added classifier. The training process will force the weights to be tuned from generic features maps to features associated specifically to our dataset."
      ]
    },
    {
      "cell_type": "markdown",
      "metadata": {
        "id": "365h2cvU6MCZ"
      },
      "source": [
        "**Un-freeze the top layers of the model**\n",
        "\n",
        "Unfreeze the `base_model` and set the bottom layers be un-trainable. Then, recompile the model (necessary for these changes to take effect), and resume training.\n"
      ]
    },
    {
      "cell_type": "code",
      "metadata": {
        "id": "MDwbc23v6MCc"
      },
      "source": [
        "base_model_4.trainable = True\n",
        "\n",
        "# Let's take a look to see how many layers are in the base model\n",
        "print(\"Number of layers in the base model: \", len(base_model_4.layers))\n",
        "\n",
        "# Fine tune from this layer onwards\n",
        "fine_tune_at = 100\n",
        "\n",
        "# Freeze all the layers before the `fine_tune_at` layer\n",
        "for layer in base_model_4.layers[:fine_tune_at]:\n",
        "  layer.trainable =  False"
      ],
      "execution_count": null,
      "outputs": []
    },
    {
      "cell_type": "markdown",
      "metadata": {
        "id": "4lz4PPRY6MCd"
      },
      "source": [
        "**Compile the model** - using a much lower training rate."
      ]
    },
    {
      "cell_type": "code",
      "metadata": {
        "id": "0t61tx-56MCe"
      },
      "source": [
        "efn_model.compile(loss='categorical_crossentropy',\n",
        "              optimizer = tf.keras.optimizers.Adam(1e-5),\n",
        "              metrics=['accuracy'])"
      ],
      "execution_count": null,
      "outputs": []
    },
    {
      "cell_type": "markdown",
      "metadata": {
        "id": "bxTv-XPd1Iko"
      },
      "source": [
        "**Model Summary**"
      ]
    },
    {
      "cell_type": "code",
      "metadata": {
        "id": "lEnC6M5e6MCf"
      },
      "source": [
        "efn_model.summary()"
      ],
      "execution_count": null,
      "outputs": []
    },
    {
      "cell_type": "code",
      "metadata": {
        "id": "DhPN45yZ6MCh"
      },
      "source": [
        "print('Number of trainable variables = {}'.format(len(efn_model.trainable_variables)))"
      ],
      "execution_count": null,
      "outputs": []
    },
    {
      "cell_type": "markdown",
      "metadata": {
        "id": "l5VR1har6MCk"
      },
      "source": [
        "### **Complete model training**"
      ]
    },
    {
      "cell_type": "code",
      "metadata": {
        "id": "4y2cFQUA6MCk"
      },
      "source": [
        "history_fine_4 = efn_model.fit(train_generator, \n",
        "                         steps_per_epoch=len(train_generator), \n",
        "                         epochs=20, \n",
        "                         validation_data=val_generator, \n",
        "                         validation_steps=len(val_generator))"
      ],
      "execution_count": null,
      "outputs": []
    },
    {
      "cell_type": "markdown",
      "metadata": {
        "id": "MmAc-i9W6MCm"
      },
      "source": [
        "**Plot learning curves of the training and validation accuracy/loss**"
      ]
    },
    {
      "cell_type": "code",
      "metadata": {
        "id": "jf8pQJwA6MCm"
      },
      "source": [
        "acc = history_fine_4.history['accuracy']\n",
        "val_acc = history_fine_4.history['val_accuracy']\n",
        "\n",
        "loss = history_fine_4.history['loss']\n",
        "val_loss = history_fine_4.history['val_loss']\n",
        "\n",
        "plt.figure(figsize=(8, 8))\n",
        "plt.subplot(2, 1, 1)\n",
        "plt.plot(acc, label='Training Accuracy')\n",
        "plt.plot(val_acc, label='Validation Accuracy')\n",
        "plt.legend(loc='lower right')\n",
        "plt.ylabel('Accuracy')\n",
        "plt.ylim([min(plt.ylim()),1])\n",
        "plt.title('Training and Validation Accuracy')\n",
        "\n",
        "plt.subplot(2, 1, 2)\n",
        "plt.plot(loss, label='Training Loss')\n",
        "plt.plot(val_loss, label='Validation Loss')\n",
        "plt.legend(loc='upper right')\n",
        "plt.ylabel('Cross Entropy')\n",
        "plt.ylim([0,1.0])\n",
        "plt.title('Training and Validation Loss')\n",
        "plt.xlabel('epoch')\n",
        "plt.show()"
      ],
      "execution_count": null,
      "outputs": []
    },
    {
      "cell_type": "markdown",
      "metadata": {
        "id": "-rGC07ol6MCo"
      },
      "source": [
        "### **Convert to TFLite**"
      ]
    },
    {
      "cell_type": "markdown",
      "metadata": {
        "id": "fRJHxCQ56MCo"
      },
      "source": [
        "Saved the model using **`tf.saved_model.save`**"
      ]
    },
    {
      "cell_type": "code",
      "metadata": {
        "id": "dvH2QyQw6MCp"
      },
      "source": [
        "saved_model_dir = 'save/fine_tuning'\n",
        "tf.saved_model.save(efn_model, saved_model_dir)\n",
        "\n",
        "converter = tf.lite.TFLiteConverter.from_saved_model(saved_model_dir)"
      ],
      "execution_count": null,
      "outputs": []
    },
    {
      "cell_type": "markdown",
      "metadata": {
        "id": "B8_Id_076MCq"
      },
      "source": [
        "**Post-Training Quantization**\n",
        "\n",
        "This technique is enabled as an option in the TensorFlow Lite converter to reduce the precision of the numbers in weight and biases in the model.\n",
        "\n",
        "The simplest form of post-training quantization quantizes weights from floating point to 8-bits of precision. At inference, weights are converted from 8-bits of precision to floating point and computed using floating-point kernels. This conversion is done once and cached to reduce latency.\n",
        "\n",
        "To further improve latency, hybrid operators dynamically quantize activations to 8-bits and perform computations with 8-bit weights and activations. This optimization provides latencies close to fully fixed-point inference. However, the outputs are still stored using floating point, so that the speedup with hybrid ops is less than a full fixed-point computation."
      ]
    },
    {
      "cell_type": "code",
      "metadata": {
        "id": "zJOiH30b6MCr"
      },
      "source": [
        "converter.optimizations = [tf.lite.Optimize.DEFAULT]"
      ],
      "execution_count": null,
      "outputs": []
    },
    {
      "cell_type": "markdown",
      "metadata": {
        "id": "gCE9-X9_6MCs"
      },
      "source": [
        "**Convert the saved model to a TF lite compatible format**"
      ]
    },
    {
      "cell_type": "code",
      "metadata": {
        "id": "nZIHDlSF6MCs"
      },
      "source": [
        "tflite_model_4 = converter.convert()\n",
        "\n",
        "with open('efn_model.tflite', 'wb') as f:\n",
        "  f.write(tflite_model_4)"
      ],
      "execution_count": null,
      "outputs": []
    },
    {
      "cell_type": "markdown",
      "metadata": {
        "id": "58JLSEQP6MCv"
      },
      "source": [
        "**Download the converted model and labels**"
      ]
    },
    {
      "cell_type": "code",
      "metadata": {
        "id": "V_7CJI5C6MCw"
      },
      "source": [
        "from google.colab import files\n",
        "\n",
        "files.download('efn_model.tflite')\n",
        "files.download('wastelabels.txt')"
      ],
      "execution_count": null,
      "outputs": []
    },
    {
      "cell_type": "markdown",
      "metadata": {
        "id": "j9l44G2w6MCx"
      },
      "source": [
        "### Summary:\n",
        "\n",
        "* **Model**: EfficientNet Model\n",
        "* **Size**:\n",
        "* **Loss**: \n",
        "* **Latency**:\n",
        "* **Training Time**:"
      ]
    },
    {
      "cell_type": "markdown",
      "metadata": {
        "id": "HkLqfqAt6OSo"
      },
      "source": [
        "## **Experiment 5: ``DenseNet`` Model**"
      ]
    },
    {
      "cell_type": "markdown",
      "metadata": {
        "id": "8ZTR7gRj6OSp"
      },
      "source": [
        "### **Create base model from the pre-trained convnets**\n",
        "\n",
        "We instantiate a **`DenseNet`** model pre-loaded with weights trained on ImageNet. By specifying the **`include_top=False`** argument, we load a network that doesn't include the classification layers at the top, which is ideal for feature extraction."
      ]
    },
    {
      "cell_type": "code",
      "metadata": {
        "id": "htX6RicG6OSr"
      },
      "source": [
        "IMG_SHAPE = (IMAGE_SIZE, IMAGE_SIZE, 3)\n",
        "\n",
        "base_model_5 = tf.keras.applications.DenseNet201(input_shape=IMG_SHAPE,\n",
        "                                              include_top=False, \n",
        "                                              weights='imagenet')\n",
        "\n",
        "print(\"\\n Your selected Model has an input size of {} \".format(IMG_SHAPE))"
      ],
      "execution_count": null,
      "outputs": []
    },
    {
      "cell_type": "markdown",
      "metadata": {
        "id": "mNWWTjkk6OSu"
      },
      "source": [
        "### **Feature extraction**"
      ]
    },
    {
      "cell_type": "markdown",
      "metadata": {
        "id": "YVDtc8C96OSv"
      },
      "source": [
        "Freeze the convolutional base created from the previous step and use that as a feature extractor, add a classifier on top of it and train the top-level classifier."
      ]
    },
    {
      "cell_type": "code",
      "metadata": {
        "id": "Wrqm7M3o6OSv"
      },
      "source": [
        "base_model_5.trainable = False"
      ],
      "execution_count": null,
      "outputs": []
    },
    {
      "cell_type": "markdown",
      "metadata": {
        "id": "Ke-69egh6OSy"
      },
      "source": [
        "**Add a classification head**"
      ]
    },
    {
      "cell_type": "code",
      "metadata": {
        "id": "D6kHcrBd6OSz"
      },
      "source": [
        "dsn_model = tf.keras.Sequential([\n",
        "  base_model_5,\n",
        "  tf.keras.layers.Conv2D(32, 3, activation='relu'),\n",
        "  tf.keras.layers.Dropout(0.2),\n",
        "  tf.keras.layers.GlobalAveragePooling2D(),\n",
        "  tf.keras.layers.Dense(6, activation='softmax')\n",
        "])"
      ],
      "execution_count": null,
      "outputs": []
    },
    {
      "cell_type": "markdown",
      "metadata": {
        "id": "4adQWJM-6OS1"
      },
      "source": [
        "**Compile the model**\n",
        "\n",
        "You must compile the model before training it.  Since there are multiple classes, use a categorical cross-entropy loss."
      ]
    },
    {
      "cell_type": "code",
      "metadata": {
        "id": "8F2h-4L_6OS1"
      },
      "source": [
        "dsn_model.compile(optimizer=tf.keras.optimizers.Adam(), \n",
        "              loss='categorical_crossentropy', \n",
        "              metrics=['accuracy'])"
      ],
      "execution_count": null,
      "outputs": []
    },
    {
      "cell_type": "code",
      "metadata": {
        "id": "fbJ_QwF26OS3"
      },
      "source": [
        "dsn_model.summary()"
      ],
      "execution_count": null,
      "outputs": []
    },
    {
      "cell_type": "code",
      "metadata": {
        "id": "HN1JWx-I6OS6"
      },
      "source": [
        "print('Number of trainable variables = {}'.format(len(dsn_model.trainable_variables)))"
      ],
      "execution_count": null,
      "outputs": []
    },
    {
      "cell_type": "markdown",
      "metadata": {
        "id": "LCUjypN06OS7"
      },
      "source": [
        "### **Train the model**\n",
        "\n",
        "<!-- TODO(markdaoust): delete steps_per_epoch in TensorFlow r1.14/r2.0 -->"
      ]
    },
    {
      "cell_type": "code",
      "metadata": {
        "id": "3rdHrFiR6OS8"
      },
      "source": [
        "epochs = 10\n",
        "\n",
        "history_5 = dsn_model.fit(train_generator, \n",
        "                    steps_per_epoch=len(train_generator), \n",
        "                    epochs=epochs, \n",
        "                    validation_data=val_generator, \n",
        "                    validation_steps=len(val_generator))"
      ],
      "execution_count": null,
      "outputs": []
    },
    {
      "cell_type": "markdown",
      "metadata": {
        "id": "lSU-VaHI6OTA"
      },
      "source": [
        "**Plot learning curves of the training and validation accuracy/loss**\n",
        "\n",
        "Let's take a look at the learning curves of the training and validation accuracy/loss when using the base model as a fixed feature extractor. "
      ]
    },
    {
      "cell_type": "code",
      "metadata": {
        "id": "--wQqdbG6OTA"
      },
      "source": [
        "acc = history_5.history['accuracy']\n",
        "val_acc = history_5.history['val_accuracy']\n",
        "\n",
        "loss = history_5.history['loss']\n",
        "val_loss = history_5.history['val_loss']\n",
        "\n",
        "plt.figure(figsize=(8, 8))\n",
        "plt.subplot(2, 1, 1)\n",
        "plt.plot(acc, label='Training Accuracy')\n",
        "plt.plot(val_acc, label='Validation Accuracy')\n",
        "plt.legend(loc='lower right')\n",
        "plt.ylabel('Accuracy')\n",
        "plt.ylim([min(plt.ylim()),1])\n",
        "plt.title('Training and Validation Accuracy')\n",
        "\n",
        "plt.subplot(2, 1, 2)\n",
        "plt.plot(loss, label='Training Loss')\n",
        "plt.plot(val_loss, label='Validation Loss')\n",
        "plt.legend(loc='upper right')\n",
        "plt.ylabel('Cross Entropy')\n",
        "plt.ylim([0,1.0])\n",
        "plt.title('Training and Validation Loss')\n",
        "plt.xlabel('epoch')\n",
        "plt.show()"
      ],
      "execution_count": null,
      "outputs": []
    },
    {
      "cell_type": "markdown",
      "metadata": {
        "id": "X9ASdAaA6OTC"
      },
      "source": [
        "### **Fine tuning**"
      ]
    },
    {
      "cell_type": "markdown",
      "metadata": {
        "id": "KcXAToOP6OTD"
      },
      "source": [
        "To increase performance we'll train (or \"fine-tune\") the weights of the top layers of the pre-trained model alongside the training of the added classifier. The training process will force the weights to be tuned from generic features maps to features associated specifically to our dataset."
      ]
    },
    {
      "cell_type": "markdown",
      "metadata": {
        "id": "-hOap6pw6OTD"
      },
      "source": [
        "**Un-freeze the top layers of the model**\n",
        "\n",
        "Unfreeze the `base_model` and set the bottom layers be un-trainable. Then, recompile the model (necessary for these changes to take effect), and resume training."
      ]
    },
    {
      "cell_type": "code",
      "metadata": {
        "id": "2cgYAAlN6OTG"
      },
      "source": [
        "base_model_5.trainable = True\n",
        "\n",
        "# Let's take a look to see how many layers are in the base model\n",
        "print(\"Number of layers in the base model: \", len(base_model_5.layers))\n",
        "\n",
        "# Fine tune from this layer onwards\n",
        "fine_tune_at = 100\n",
        "\n",
        "# Freeze all the layers before the `fine_tune_at` layer\n",
        "for layer in base_model_5.layers[:fine_tune_at]:\n",
        "  layer.trainable =  False"
      ],
      "execution_count": null,
      "outputs": []
    },
    {
      "cell_type": "markdown",
      "metadata": {
        "id": "6k6CsL5X6OTI"
      },
      "source": [
        "**Compile the model** - using a much lower training rate."
      ]
    },
    {
      "cell_type": "code",
      "metadata": {
        "id": "5x8eOwvm6OTI"
      },
      "source": [
        "dsn_model.compile(loss='categorical_crossentropy',\n",
        "              optimizer = tf.keras.optimizers.Adam(1e-5),\n",
        "              metrics=['accuracy'])"
      ],
      "execution_count": null,
      "outputs": []
    },
    {
      "cell_type": "markdown",
      "metadata": {
        "id": "JhMdBlUk1Pf0"
      },
      "source": [
        "**Model Summary**"
      ]
    },
    {
      "cell_type": "code",
      "metadata": {
        "id": "xNVRoDor6OTK"
      },
      "source": [
        "dsn_model.summary()"
      ],
      "execution_count": null,
      "outputs": []
    },
    {
      "cell_type": "code",
      "metadata": {
        "id": "YO9Qw1YO6OTM"
      },
      "source": [
        "print('Number of trainable variables = {}'.format(len(dsn_model.trainable_variables)))"
      ],
      "execution_count": null,
      "outputs": []
    },
    {
      "cell_type": "markdown",
      "metadata": {
        "id": "mMw1b9Tm6OTO"
      },
      "source": [
        "### **Complete model training**"
      ]
    },
    {
      "cell_type": "code",
      "metadata": {
        "id": "a95AmaIv6OTO"
      },
      "source": [
        "history_fine_5 = dsn_model.fit(train_generator, \n",
        "                         steps_per_epoch=len(train_generator), \n",
        "                         epochs=20, \n",
        "                         validation_data=val_generator, \n",
        "                         validation_steps=len(val_generator))"
      ],
      "execution_count": null,
      "outputs": []
    },
    {
      "cell_type": "markdown",
      "metadata": {
        "id": "y3gYeWJ26OTR"
      },
      "source": [
        "**Plot learning curves of the training and validation accuracy/loss**"
      ]
    },
    {
      "cell_type": "code",
      "metadata": {
        "id": "JGrwGk_A6OTR"
      },
      "source": [
        "acc = history_fine_5.history['accuracy']\n",
        "val_acc = history_fine_5.history['val_accuracy']\n",
        "\n",
        "loss = history_fine_5.history['loss']\n",
        "val_loss = history_fine_5.history['val_loss']\n",
        "\n",
        "plt.figure(figsize=(8, 8))\n",
        "plt.subplot(2, 1, 1)\n",
        "plt.plot(acc, label='Training Accuracy')\n",
        "plt.plot(val_acc, label='Validation Accuracy')\n",
        "plt.legend(loc='lower right')\n",
        "plt.ylabel('Accuracy')\n",
        "plt.ylim([min(plt.ylim()),1])\n",
        "plt.title('Training and Validation Accuracy')\n",
        "\n",
        "plt.subplot(2, 1, 2)\n",
        "plt.plot(loss, label='Training Loss')\n",
        "plt.plot(val_loss, label='Validation Loss')\n",
        "plt.legend(loc='upper right')\n",
        "plt.ylabel('Cross Entropy')\n",
        "plt.ylim([0,1.0])\n",
        "plt.title('Training and Validation Loss')\n",
        "plt.xlabel('epoch')\n",
        "plt.show()"
      ],
      "execution_count": null,
      "outputs": []
    },
    {
      "cell_type": "markdown",
      "metadata": {
        "id": "nyz2ur4U6OTT"
      },
      "source": [
        "### **Convert to TFLite**"
      ]
    },
    {
      "cell_type": "markdown",
      "metadata": {
        "id": "P3Ccsp2I6OTT"
      },
      "source": [
        "Saved the model using **`tf.saved_model.save`**"
      ]
    },
    {
      "cell_type": "code",
      "metadata": {
        "id": "TQnYA4RD6OTT"
      },
      "source": [
        "saved_model_dir = 'save/fine_tuning'\n",
        "tf.saved_model.save(dsn_model, saved_model_dir)\n",
        "\n",
        "converter = tf.lite.TFLiteConverter.from_saved_model(saved_model_dir)"
      ],
      "execution_count": null,
      "outputs": []
    },
    {
      "cell_type": "markdown",
      "metadata": {
        "id": "PhcuV9du6OTV"
      },
      "source": [
        "**Post-Training Quantization**\n",
        "\n",
        "This technique is enabled as an option in the TensorFlow Lite converter to reduce the precision of the numbers in weight and biases in the model.\n",
        "\n",
        "The simplest form of post-training quantization quantizes weights from floating point to 8-bits of precision. At inference, weights are converted from 8-bits of precision to floating point and computed using floating-point kernels. This conversion is done once and cached to reduce latency.\n",
        "\n",
        "To further improve latency, hybrid operators dynamically quantize activations to 8-bits and perform computations with 8-bit weights and activations. This optimization provides latencies close to fully fixed-point inference. However, the outputs are still stored using floating point, so that the speedup with hybrid ops is less than a full fixed-point computation."
      ]
    },
    {
      "cell_type": "code",
      "metadata": {
        "id": "5iKAzx7L6OTV"
      },
      "source": [
        "converter.optimizations = [tf.lite.Optimize.DEFAULT]"
      ],
      "execution_count": null,
      "outputs": []
    },
    {
      "cell_type": "markdown",
      "metadata": {
        "id": "czNaPrK96OTX"
      },
      "source": [
        "**Convert the saved model to a TF lite compatible format**"
      ]
    },
    {
      "cell_type": "code",
      "metadata": {
        "id": "9i4p6G3L6OTX"
      },
      "source": [
        "tflite_model_5 = converter.convert()\n",
        "\n",
        "with open('dsn_model.tflite', 'wb') as f:\n",
        "  f.write(tflite_model_5)"
      ],
      "execution_count": null,
      "outputs": []
    },
    {
      "cell_type": "markdown",
      "metadata": {
        "id": "QYjKxLLy6OTZ"
      },
      "source": [
        "**Download the converted model and labels**"
      ]
    },
    {
      "cell_type": "code",
      "metadata": {
        "id": "mBkWhyPE6OTZ"
      },
      "source": [
        "from google.colab import files\n",
        "\n",
        "files.download('dsn_model.tflite')\n",
        "files.download('wastelabels.txt')"
      ],
      "execution_count": null,
      "outputs": []
    },
    {
      "cell_type": "markdown",
      "metadata": {
        "id": "UFhnK9WO6OTa"
      },
      "source": [
        "### Summary:\n",
        "\n",
        "* **Model**: DenseNet Model\n",
        "* **Size**:\n",
        "* **Loss**: \n",
        "* **Latency**:\n",
        "* **Training Time**:"
      ]
    },
    {
      "cell_type": "markdown",
      "metadata": {
        "id": "8tbGyKiq6O86"
      },
      "source": [
        "## **Experiment 6: ``ResNet152`` Model**"
      ]
    },
    {
      "cell_type": "markdown",
      "metadata": {
        "id": "sec6FyAN6O87"
      },
      "source": [
        "### **Create base model from the pre-trained convnets**\n",
        "\n",
        "We instantiate a **`ResNet152`** model pre-loaded with weights trained on ImageNet. By specifying the **`include_top=False`** argument, we load a network that doesn't include the classification layers at the top, which is ideal for feature extraction."
      ]
    },
    {
      "cell_type": "code",
      "metadata": {
        "id": "mvVSJD6L6O89"
      },
      "source": [
        "IMG_SHAPE = (IMAGE_SIZE, IMAGE_SIZE, 3)\n",
        "\n",
        "base_model_6 = tf.keras.applications.ResNet152(input_shape=IMG_SHAPE,\n",
        "                                              include_top=False, \n",
        "                                              weights='imagenet')\n",
        "\n",
        "print(\"\\n Your selected Model has an input size of {} \".format(IMG_SHAPE))"
      ],
      "execution_count": null,
      "outputs": []
    },
    {
      "cell_type": "markdown",
      "metadata": {
        "id": "p4Z5X25t6O8-"
      },
      "source": [
        "### **Feature extraction**"
      ]
    },
    {
      "cell_type": "markdown",
      "metadata": {
        "id": "r0EtE4c06O8_"
      },
      "source": [
        "Freeze the convolutional base created from the previous step and use that as a feature extractor, add a classifier on top of it and train the top-level classifier."
      ]
    },
    {
      "cell_type": "code",
      "metadata": {
        "id": "dOz9MnXk6O9A"
      },
      "source": [
        "base_model_6.trainable = False"
      ],
      "execution_count": null,
      "outputs": []
    },
    {
      "cell_type": "markdown",
      "metadata": {
        "id": "WA-T19lt6O9B"
      },
      "source": [
        "**Add a classification head**"
      ]
    },
    {
      "cell_type": "code",
      "metadata": {
        "id": "Wl8VLFFz6O9B"
      },
      "source": [
        "rsn152_model = tf.keras.Sequential([\n",
        "  base_model_6,\n",
        "  tf.keras.layers.Conv2D(32, 3, activation='relu'),\n",
        "  tf.keras.layers.Dropout(0.2),\n",
        "  tf.keras.layers.GlobalAveragePooling2D(),\n",
        "  tf.keras.layers.Dense(6, activation='softmax')\n",
        "])"
      ],
      "execution_count": null,
      "outputs": []
    },
    {
      "cell_type": "markdown",
      "metadata": {
        "id": "4gXiSVaF6O9D"
      },
      "source": [
        "**Compile the model**\n",
        "\n",
        "You must compile the model before training it.  Since there are multiple classes, use a categorical cross-entropy loss."
      ]
    },
    {
      "cell_type": "code",
      "metadata": {
        "id": "xD1GcTEN6O9D"
      },
      "source": [
        "rsn152_model.compile(optimizer=tf.keras.optimizers.Adam(), \n",
        "              loss='categorical_crossentropy', \n",
        "              metrics=['accuracy'])"
      ],
      "execution_count": null,
      "outputs": []
    },
    {
      "cell_type": "code",
      "metadata": {
        "id": "DblcYbGx6O9E"
      },
      "source": [
        "rsn152_model.summary()"
      ],
      "execution_count": null,
      "outputs": []
    },
    {
      "cell_type": "code",
      "metadata": {
        "id": "PM6rJIcT6O9F"
      },
      "source": [
        "print('Number of trainable variables = {}'.format(len(rsn152_model.trainable_variables)))"
      ],
      "execution_count": null,
      "outputs": []
    },
    {
      "cell_type": "markdown",
      "metadata": {
        "id": "tNJBj2Yo6O9G"
      },
      "source": [
        "### **Train the model**\n",
        "\n",
        "<!-- TODO(markdaoust): delete steps_per_epoch in TensorFlow r1.14/r2.0 -->"
      ]
    },
    {
      "cell_type": "code",
      "metadata": {
        "id": "DTaqCPMN6O9G"
      },
      "source": [
        "epochs = 10\n",
        "\n",
        "history_6 = rsn152_model.fit(train_generator, \n",
        "                    steps_per_epoch=len(train_generator), \n",
        "                    epochs=epochs, \n",
        "                    validation_data=val_generator, \n",
        "                    validation_steps=len(val_generator))"
      ],
      "execution_count": null,
      "outputs": []
    },
    {
      "cell_type": "markdown",
      "metadata": {
        "id": "J4ftAzm06O9I"
      },
      "source": [
        "**Plot learning curves of the training and validation accuracy/loss**\n",
        "\n",
        "Let's take a look at the learning curves of the training and validation accuracy/loss when using the base model as a fixed feature extractor. "
      ]
    },
    {
      "cell_type": "code",
      "metadata": {
        "id": "AR7nh2nb6O9J"
      },
      "source": [
        "acc = history_6.history['accuracy']\n",
        "val_acc = history_6.history['val_accuracy']\n",
        "\n",
        "loss = history_6.history['loss']\n",
        "val_loss = history_6.history['val_loss']\n",
        "\n",
        "plt.figure(figsize=(8, 8))\n",
        "plt.subplot(2, 1, 1)\n",
        "plt.plot(acc, label='Training Accuracy')\n",
        "plt.plot(val_acc, label='Validation Accuracy')\n",
        "plt.legend(loc='lower right')\n",
        "plt.ylabel('Accuracy')\n",
        "plt.ylim([min(plt.ylim()),1])\n",
        "plt.title('Training and Validation Accuracy')\n",
        "\n",
        "plt.subplot(2, 1, 2)\n",
        "plt.plot(loss, label='Training Loss')\n",
        "plt.plot(val_loss, label='Validation Loss')\n",
        "plt.legend(loc='upper right')\n",
        "plt.ylabel('Cross Entropy')\n",
        "plt.ylim([0,1.0])\n",
        "plt.title('Training and Validation Loss')\n",
        "plt.xlabel('epoch')\n",
        "plt.show()"
      ],
      "execution_count": null,
      "outputs": []
    },
    {
      "cell_type": "markdown",
      "metadata": {
        "id": "rjm3EMON6O9K"
      },
      "source": [
        "### **Fine tuning**"
      ]
    },
    {
      "cell_type": "markdown",
      "metadata": {
        "id": "ttSN2Uks6O9K"
      },
      "source": [
        "To increase performance we'll train (or \"fine-tune\") the weights of the top layers of the pre-trained model alongside the training of the added classifier. The training process will force the weights to be tuned from generic features maps to features associated specifically to our dataset."
      ]
    },
    {
      "cell_type": "markdown",
      "metadata": {
        "id": "dPxk29BW6O9K"
      },
      "source": [
        "**Un-freeze the top layers of the model**\n",
        "\n",
        "Unfreeze the `base_model` and set the bottom layers be un-trainable. Then, recompile the model (necessary for these changes to take effect), and resume training."
      ]
    },
    {
      "cell_type": "code",
      "metadata": {
        "id": "gUGjxgWi6O9M"
      },
      "source": [
        "base_model_6.trainable = True\n",
        "\n",
        "# Let's take a look to see how many layers are in the base model\n",
        "print(\"Number of layers in the base model: \", len(base_model_6.layers))\n",
        "\n",
        "# Fine tune from this layer onwards\n",
        "fine_tune_at = 100\n",
        "\n",
        "# Freeze all the layers before the `fine_tune_at` layer\n",
        "for layer in base_model_6.layers[:fine_tune_at]:\n",
        "  layer.trainable =  False"
      ],
      "execution_count": null,
      "outputs": []
    },
    {
      "cell_type": "markdown",
      "metadata": {
        "id": "Uj0axwm66O9O"
      },
      "source": [
        "**Compile the model** - using a much lower training rate."
      ]
    },
    {
      "cell_type": "code",
      "metadata": {
        "id": "BsSvsEKG6O9O"
      },
      "source": [
        "rsn152_model.compile(loss='categorical_crossentropy',\n",
        "              optimizer = tf.keras.optimizers.Adam(1e-5),\n",
        "              metrics=['accuracy'])"
      ],
      "execution_count": null,
      "outputs": []
    },
    {
      "cell_type": "markdown",
      "metadata": {
        "id": "Pv06Lo251VPy"
      },
      "source": [
        "**Model Summary**"
      ]
    },
    {
      "cell_type": "code",
      "metadata": {
        "id": "Nmve2fkk6O9Q"
      },
      "source": [
        "rsn152_model.summary()"
      ],
      "execution_count": null,
      "outputs": []
    },
    {
      "cell_type": "code",
      "metadata": {
        "id": "srvJJRPC6O9R"
      },
      "source": [
        "print('Number of trainable variables = {}'.format(len(rsn152_model.trainable_variables)))"
      ],
      "execution_count": null,
      "outputs": []
    },
    {
      "cell_type": "markdown",
      "metadata": {
        "id": "8cBP3JQs6O9S"
      },
      "source": [
        "### **Complete model training**"
      ]
    },
    {
      "cell_type": "code",
      "metadata": {
        "id": "K06eS4uJ6O9S"
      },
      "source": [
        "history_fine_6 = rsn152_model.fit(train_generator, \n",
        "                         steps_per_epoch=len(train_generator), \n",
        "                         epochs=20, \n",
        "                         validation_data=val_generator, \n",
        "                         validation_steps=len(val_generator))"
      ],
      "execution_count": null,
      "outputs": []
    },
    {
      "cell_type": "markdown",
      "metadata": {
        "id": "rIVdeAfD6O9T"
      },
      "source": [
        "**Plot learning curves of the training and validation accuracy/loss**"
      ]
    },
    {
      "cell_type": "code",
      "metadata": {
        "id": "1ks9Yp6H6O9T"
      },
      "source": [
        "acc = history_fine_6.history['accuracy']\n",
        "val_acc = history_fine_6.history['val_accuracy']\n",
        "\n",
        "loss = history_fine_6.history['loss']\n",
        "val_loss = history_fine_6.history['val_loss']\n",
        "\n",
        "plt.figure(figsize=(8, 8))\n",
        "plt.subplot(2, 1, 1)\n",
        "plt.plot(acc, label='Training Accuracy')\n",
        "plt.plot(val_acc, label='Validation Accuracy')\n",
        "plt.legend(loc='lower right')\n",
        "plt.ylabel('Accuracy')\n",
        "plt.ylim([min(plt.ylim()),1])\n",
        "plt.title('Training and Validation Accuracy')\n",
        "\n",
        "plt.subplot(2, 1, 2)\n",
        "plt.plot(loss, label='Training Loss')\n",
        "plt.plot(val_loss, label='Validation Loss')\n",
        "plt.legend(loc='upper right')\n",
        "plt.ylabel('Cross Entropy')\n",
        "plt.ylim([0,1.0])\n",
        "plt.title('Training and Validation Loss')\n",
        "plt.xlabel('epoch')\n",
        "plt.show()"
      ],
      "execution_count": null,
      "outputs": []
    },
    {
      "cell_type": "markdown",
      "metadata": {
        "id": "7xw5sxbY6O9U"
      },
      "source": [
        "### **Convert to TFLite**"
      ]
    },
    {
      "cell_type": "markdown",
      "metadata": {
        "id": "xbYjI0RK6O9U"
      },
      "source": [
        "Saved the model using **`tf.saved_model.save`**"
      ]
    },
    {
      "cell_type": "code",
      "metadata": {
        "id": "E8AN3olY6O9U"
      },
      "source": [
        "saved_model_dir = 'save/fine_tuning'\n",
        "tf.saved_model.save(rsn152_model, saved_model_dir)\n",
        "\n",
        "converter = tf.lite.TFLiteConverter.from_saved_model(saved_model_dir)"
      ],
      "execution_count": null,
      "outputs": []
    },
    {
      "cell_type": "markdown",
      "metadata": {
        "id": "RpADnlyg6O9V"
      },
      "source": [
        "**Post-Training Quantization**\n",
        "\n",
        "This technique is enabled as an option in the TensorFlow Lite converter to reduce the precision of the numbers in weight and biases in the model.\n",
        "\n",
        "The simplest form of post-training quantization quantizes weights from floating point to 8-bits of precision. At inference, weights are converted from 8-bits of precision to floating point and computed using floating-point kernels. This conversion is done once and cached to reduce latency.\n",
        "\n",
        "To further improve latency, hybrid operators dynamically quantize activations to 8-bits and perform computations with 8-bit weights and activations. This optimization provides latencies close to fully fixed-point inference. However, the outputs are still stored using floating point, so that the speedup with hybrid ops is less than a full fixed-point computation."
      ]
    },
    {
      "cell_type": "code",
      "metadata": {
        "id": "GZ2_w2Cr6O9V"
      },
      "source": [
        "converter.optimizations = [tf.lite.Optimize.DEFAULT]"
      ],
      "execution_count": null,
      "outputs": []
    },
    {
      "cell_type": "markdown",
      "metadata": {
        "id": "t3jWLMK76O9W"
      },
      "source": [
        "**Convert the saved model to a TF lite compatible format**"
      ]
    },
    {
      "cell_type": "code",
      "metadata": {
        "id": "3QBa7HNn6O9W"
      },
      "source": [
        "tflite_model_6 = converter.convert()\n",
        "\n",
        "with open('rsn152_model.tflite', 'wb') as f:\n",
        "  f.write(tflite_model_6)"
      ],
      "execution_count": null,
      "outputs": []
    },
    {
      "cell_type": "markdown",
      "metadata": {
        "id": "cJcD0Qqk6O9X"
      },
      "source": [
        "**Download the converted model and labels**"
      ]
    },
    {
      "cell_type": "code",
      "metadata": {
        "id": "3mdIxl2Q6O9X"
      },
      "source": [
        "from google.colab import files\n",
        "\n",
        "files.download('rsn152_model.tflite')\n",
        "files.download('wastelabels.txt')"
      ],
      "execution_count": null,
      "outputs": []
    },
    {
      "cell_type": "markdown",
      "metadata": {
        "id": "SH0yjUHE6O9Z"
      },
      "source": [
        "### Summary:\n",
        "\n",
        "* **Model**: ResNet152 Model\n",
        "* **Size**:\n",
        "* **Loss**: \n",
        "* **Latency**:\n",
        "* **Training Time**:"
      ]
    },
    {
      "cell_type": "markdown",
      "metadata": {
        "id": "5MAxb_sZ6NlR"
      },
      "source": [
        "## **Experiment 7: ``Inception-ResNet-V2`` Model**\n",
        "\n",
        "**NOTE: Input shape for `Inception-ResNet-V2` must be (299, 299, 3)**"
      ]
    },
    {
      "cell_type": "markdown",
      "metadata": {
        "id": "HbflLF0E6NlR"
      },
      "source": [
        "### **Create base model from the pre-trained convnets**\n",
        "\n",
        "We instantiate a **`Inception-ResNet-V2`** model pre-loaded with weights trained on ImageNet. By specifying the **`include_top=False`** argument, we load a network that doesn't include the classification layers at the top, which is ideal for feature extraction."
      ]
    },
    {
      "cell_type": "code",
      "metadata": {
        "id": "yEcAruI16NlS"
      },
      "source": [
        "IMG_SHAPE = (IMAGE_SIZE, IMAGE_SIZE, 3)\n",
        "\n",
        "base_model_7 = tf.keras.applications.MobileNetV2(input_shape=IMG_SHAPE,\n",
        "                                              include_top=False, \n",
        "                                              weights='imagenet')\n",
        "\n",
        "print(\"\\n Your selected Model has an input size of {} \".format(IMG_SHAPE))"
      ],
      "execution_count": null,
      "outputs": []
    },
    {
      "cell_type": "markdown",
      "metadata": {
        "id": "TevHBcgB6NlU"
      },
      "source": [
        "### **Feature extraction**"
      ]
    },
    {
      "cell_type": "markdown",
      "metadata": {
        "id": "eyNOcfT06NlU"
      },
      "source": [
        "Freeze the convolutional base created from the previous step and use that as a feature extractor, add a classifier on top of it and train the top-level classifier."
      ]
    },
    {
      "cell_type": "code",
      "metadata": {
        "id": "1A7VR7PM6NlU"
      },
      "source": [
        "base_model_7.trainable = False"
      ],
      "execution_count": null,
      "outputs": []
    },
    {
      "cell_type": "markdown",
      "metadata": {
        "id": "Yh5WeY_46NlY"
      },
      "source": [
        "**Add a classification head**"
      ]
    },
    {
      "cell_type": "code",
      "metadata": {
        "id": "DFiykcik6NlZ"
      },
      "source": [
        "irsnv2_model = tf.keras.Sequential([\n",
        "  base_model_7,\n",
        "  tf.keras.layers.Conv2D(32, 3, activation='relu'),\n",
        "  tf.keras.layers.Dropout(0.2),\n",
        "  tf.keras.layers.GlobalAveragePooling2D(),\n",
        "  tf.keras.layers.Dense(6, activation='softmax')\n",
        "])"
      ],
      "execution_count": null,
      "outputs": []
    },
    {
      "cell_type": "markdown",
      "metadata": {
        "id": "l-WTJtVM6Nla"
      },
      "source": [
        "**Compile the model**\n",
        "\n",
        "You must compile the model before training it.  Since there are multiple classes, use a categorical cross-entropy loss."
      ]
    },
    {
      "cell_type": "code",
      "metadata": {
        "id": "Jl3QLHVq6Nlb"
      },
      "source": [
        "irsnv2_model.compile(optimizer=tf.keras.optimizers.Adam(), \n",
        "              loss='categorical_crossentropy', \n",
        "              metrics=['accuracy'])"
      ],
      "execution_count": null,
      "outputs": []
    },
    {
      "cell_type": "code",
      "metadata": {
        "id": "zxhxol-06Nlc"
      },
      "source": [
        "irsnv2_model.summary()"
      ],
      "execution_count": null,
      "outputs": []
    },
    {
      "cell_type": "code",
      "metadata": {
        "id": "w9k5_iZQ6Nle"
      },
      "source": [
        "print('Number of trainable variables = {}'.format(len(irsnv2_model.trainable_variables)))"
      ],
      "execution_count": null,
      "outputs": []
    },
    {
      "cell_type": "markdown",
      "metadata": {
        "id": "mCKUPFf66Nlf"
      },
      "source": [
        "### **Train the model**\n",
        "\n",
        "<!-- TODO(markdaoust): delete steps_per_epoch in TensorFlow r1.14/r2.0 -->"
      ]
    },
    {
      "cell_type": "code",
      "metadata": {
        "id": "P6WChq8R6Nlg"
      },
      "source": [
        "epochs = 10\n",
        "\n",
        "history_7 = irsnv2_model.fit(train_generator, \n",
        "                    steps_per_epoch=len(train_generator), \n",
        "                    epochs=epochs, \n",
        "                    validation_data=val_generator, \n",
        "                    validation_steps=len(val_generator))"
      ],
      "execution_count": null,
      "outputs": []
    },
    {
      "cell_type": "markdown",
      "metadata": {
        "id": "7fu68xau6Nlh"
      },
      "source": [
        "**Plot learning curves of the training and validation accuracy/loss**\n",
        "\n",
        "Let's take a look at the learning curves of the training and validation accuracy/loss when using the base model as a fixed feature extractor. "
      ]
    },
    {
      "cell_type": "code",
      "metadata": {
        "id": "_9VNTvnM6Nlh"
      },
      "source": [
        "acc = history_7.history['accuracy']\n",
        "val_acc = history_7.history['val_accuracy']\n",
        "\n",
        "loss = history_7.history['loss']\n",
        "val_loss = history_7.history['val_loss']\n",
        "\n",
        "plt.figure(figsize=(8, 8))\n",
        "plt.subplot(2, 1, 1)\n",
        "plt.plot(acc, label='Training Accuracy')\n",
        "plt.plot(val_acc, label='Validation Accuracy')\n",
        "plt.legend(loc='lower right')\n",
        "plt.ylabel('Accuracy')\n",
        "plt.ylim([min(plt.ylim()),1])\n",
        "plt.title('Training and Validation Accuracy')\n",
        "\n",
        "plt.subplot(2, 1, 2)\n",
        "plt.plot(loss, label='Training Loss')\n",
        "plt.plot(val_loss, label='Validation Loss')\n",
        "plt.legend(loc='upper right')\n",
        "plt.ylabel('Cross Entropy')\n",
        "plt.ylim([0,1.0])\n",
        "plt.title('Training and Validation Loss')\n",
        "plt.xlabel('epoch')\n",
        "plt.show()"
      ],
      "execution_count": null,
      "outputs": []
    },
    {
      "cell_type": "markdown",
      "metadata": {
        "id": "WvcY0JNT6Nlk"
      },
      "source": [
        "### **Fine tuning**"
      ]
    },
    {
      "cell_type": "markdown",
      "metadata": {
        "id": "PwpfVra56Nll"
      },
      "source": [
        "To increase performance we'll train (or \"fine-tune\") the weights of the top layers of the pre-trained model alongside the training of the added classifier. The training process will force the weights to be tuned from generic features maps to features associated specifically to our dataset."
      ]
    },
    {
      "cell_type": "markdown",
      "metadata": {
        "id": "3hW0lU9G6Nll"
      },
      "source": [
        "**Un-freeze the top layers of the model**\n",
        "\n",
        "Unfreeze the `base_model` and set the bottom layers be un-trainable. Then, recompile the model (necessary for these changes to take effect), and resume training."
      ]
    },
    {
      "cell_type": "code",
      "metadata": {
        "id": "9PUMiNga6Nln"
      },
      "source": [
        "base_model_7.trainable = True\n",
        "\n",
        "# Let's take a look to see how many layers are in the base model\n",
        "print(\"Number of layers in the base model: \", len(base_model_7.layers))\n",
        "\n",
        "# Fine tune from this layer onwards\n",
        "fine_tune_at = 100\n",
        "\n",
        "# Freeze all the layers before the `fine_tune_at` layer\n",
        "for layer in base_model_7.layers[:fine_tune_at]:\n",
        "  layer.trainable =  False"
      ],
      "execution_count": null,
      "outputs": []
    },
    {
      "cell_type": "markdown",
      "metadata": {
        "id": "XwX44bjP6Nlp"
      },
      "source": [
        "**Compile the model** - using a much lower training rate."
      ]
    },
    {
      "cell_type": "code",
      "metadata": {
        "id": "Sq2X2HE56Nlq"
      },
      "source": [
        "irsnv2_model.compile(loss='categorical_crossentropy',\n",
        "              optimizer = tf.keras.optimizers.Adam(1e-5),\n",
        "              metrics=['accuracy'])"
      ],
      "execution_count": null,
      "outputs": []
    },
    {
      "cell_type": "markdown",
      "metadata": {
        "id": "nQFSsJQe1a3S"
      },
      "source": [
        "**Model Summary**"
      ]
    },
    {
      "cell_type": "code",
      "metadata": {
        "id": "bduGCFdN6Nls"
      },
      "source": [
        "irsnv2_model.summary()"
      ],
      "execution_count": null,
      "outputs": []
    },
    {
      "cell_type": "code",
      "metadata": {
        "id": "1yUts7K86Nlt"
      },
      "source": [
        "print('Number of trainable variables = {}'.format(len(irsnv2_model.trainable_variables)))"
      ],
      "execution_count": null,
      "outputs": []
    },
    {
      "cell_type": "markdown",
      "metadata": {
        "id": "HBIVDT0y6Nlv"
      },
      "source": [
        "### **Complete model training**"
      ]
    },
    {
      "cell_type": "code",
      "metadata": {
        "id": "qRkiZB5K6Nlv"
      },
      "source": [
        "history_fine_7 = irsnv2_model.fit(train_generator, \n",
        "                         steps_per_epoch=len(train_generator), \n",
        "                         epochs=20, \n",
        "                         validation_data=val_generator, \n",
        "                         validation_steps=len(val_generator))"
      ],
      "execution_count": null,
      "outputs": []
    },
    {
      "cell_type": "markdown",
      "metadata": {
        "id": "wBiW2yGN6Nlx"
      },
      "source": [
        "**Plot learning curves of the training and validation accuracy/loss**"
      ]
    },
    {
      "cell_type": "code",
      "metadata": {
        "id": "kOD1midW6Nlx"
      },
      "source": [
        "acc = history_fine_7.history['accuracy']\n",
        "val_acc = history_fine_7.history['val_accuracy']\n",
        "\n",
        "loss = history_fine_7.history['loss']\n",
        "val_loss = history_fine_7.history['val_loss']\n",
        "\n",
        "plt.figure(figsize=(8, 8))\n",
        "plt.subplot(2, 1, 1)\n",
        "plt.plot(acc, label='Training Accuracy')\n",
        "plt.plot(val_acc, label='Validation Accuracy')\n",
        "plt.legend(loc='lower right')\n",
        "plt.ylabel('Accuracy')\n",
        "plt.ylim([min(plt.ylim()),1])\n",
        "plt.title('Training and Validation Accuracy')\n",
        "\n",
        "plt.subplot(2, 1, 2)\n",
        "plt.plot(loss, label='Training Loss')\n",
        "plt.plot(val_loss, label='Validation Loss')\n",
        "plt.legend(loc='upper right')\n",
        "plt.ylabel('Cross Entropy')\n",
        "plt.ylim([0,1.0])\n",
        "plt.title('Training and Validation Loss')\n",
        "plt.xlabel('epoch')\n",
        "plt.show()"
      ],
      "execution_count": null,
      "outputs": []
    },
    {
      "cell_type": "markdown",
      "metadata": {
        "id": "XcxK91896Nlz"
      },
      "source": [
        "### **Convert to TFLite**"
      ]
    },
    {
      "cell_type": "markdown",
      "metadata": {
        "id": "OBfZA98H6Nl0"
      },
      "source": [
        "Saved the model using **`tf.saved_model.save`**"
      ]
    },
    {
      "cell_type": "code",
      "metadata": {
        "id": "SPlTRRhC6Nl0"
      },
      "source": [
        "saved_model_dir = 'save/fine_tuning'\n",
        "tf.saved_model.save(irsnv2_model, saved_model_dir)\n",
        "\n",
        "converter = tf.lite.TFLiteConverter.from_saved_model(saved_model_dir)"
      ],
      "execution_count": null,
      "outputs": []
    },
    {
      "cell_type": "markdown",
      "metadata": {
        "id": "ysTViEB66Nl2"
      },
      "source": [
        "**Post-Training Quantization**\n",
        "\n",
        "This technique is enabled as an option in the TensorFlow Lite converter to reduce the precision of the numbers in weight and biases in the model.\n",
        "\n",
        "The simplest form of post-training quantization quantizes weights from floating point to 8-bits of precision. At inference, weights are converted from 8-bits of precision to floating point and computed using floating-point kernels. This conversion is done once and cached to reduce latency.\n",
        "\n",
        "To further improve latency, hybrid operators dynamically quantize activations to 8-bits and perform computations with 8-bit weights and activations. This optimization provides latencies close to fully fixed-point inference. However, the outputs are still stored using floating point, so that the speedup with hybrid ops is less than a full fixed-point computation."
      ]
    },
    {
      "cell_type": "code",
      "metadata": {
        "id": "mX5cZjO_6Nl3"
      },
      "source": [
        "converter.optimizations = [tf.lite.Optimize.DEFAULT]"
      ],
      "execution_count": null,
      "outputs": []
    },
    {
      "cell_type": "markdown",
      "metadata": {
        "id": "DRNBTXqA6Nl5"
      },
      "source": [
        "**Convert the saved model to a TF lite compatible format**"
      ]
    },
    {
      "cell_type": "code",
      "metadata": {
        "id": "hbWdUYqN6Nl5"
      },
      "source": [
        "tflite_model_7 = converter.convert()\n",
        "\n",
        "with open('irsnv2_model.tflite', 'wb') as f:\n",
        "  f.write(tflite_model_7)"
      ],
      "execution_count": null,
      "outputs": []
    },
    {
      "cell_type": "markdown",
      "metadata": {
        "id": "kZCsfnFa6Nl7"
      },
      "source": [
        "**Download the converted model and labels**"
      ]
    },
    {
      "cell_type": "code",
      "metadata": {
        "id": "ghkqbXs06Nl7"
      },
      "source": [
        "from google.colab import files\n",
        "\n",
        "files.download('irsnv2_model.tflite')\n",
        "files.download('wastelabels.txt')"
      ],
      "execution_count": null,
      "outputs": []
    },
    {
      "cell_type": "markdown",
      "metadata": {
        "id": "rqH-kjiS6Nl9"
      },
      "source": [
        "### Summary:\n",
        "\n",
        "* **Model**: Inception-Resnet-V2 Model\n",
        "* **Size**:\n",
        "* **Loss**: \n",
        "* **Latency**:\n",
        "* **Training Time**:"
      ]
    },
    {
      "cell_type": "markdown",
      "metadata": {
        "id": "4ZzTi6QgkK6f"
      },
      "source": [
        "## **EVALUATION: Compare Model Performance**"
      ]
    },
    {
      "cell_type": "markdown",
      "metadata": {
        "id": "oPRmgW_VkK68"
      },
      "source": [
        "### **All trained models**"
      ]
    },
    {
      "cell_type": "code",
      "metadata": {
        "id": "A4IH43_0kK6-"
      },
      "source": [
        "#history_fine\n",
        "\n",
        "#svm_model\n",
        "#mnv2_model\n",
        "#efn_model\n",
        "#dsn_model\n",
        "#rsn152_model\n",
        "#irsnv2_model"
      ],
      "execution_count": null,
      "outputs": []
    },
    {
      "cell_type": "markdown",
      "metadata": {
        "id": "gNI7HKQhkK6_"
      },
      "source": [
        "**Plot learning curves of the training and validation accuracy/loss**"
      ]
    },
    {
      "cell_type": "code",
      "metadata": {
        "id": "PHtqMi9TkK7A"
      },
      "source": [
        "acc = history_fine.history['accuracy']\n",
        "val_acc = history_fine.history['val_accuracy']\n",
        "\n",
        "loss = history_fine.history['loss']\n",
        "val_loss = history_fine.history['val_loss']\n",
        "\n",
        "plt.figure(figsize=(8, 8))\n",
        "plt.subplot(2, 1, 1)\n",
        "plt.plot(acc, label='Training Accuracy')\n",
        "plt.plot(val_acc, label='Validation Accuracy')\n",
        "plt.legend(loc='lower right')\n",
        "plt.ylabel('Accuracy')\n",
        "plt.ylim([min(plt.ylim()),1])\n",
        "plt.title('Training and Validation Accuracy')\n",
        "\n",
        "plt.subplot(2, 1, 2)\n",
        "plt.plot(loss, label='Training Loss')\n",
        "plt.plot(val_loss, label='Validation Loss')\n",
        "plt.legend(loc='upper right')\n",
        "plt.ylabel('Cross Entropy')\n",
        "plt.ylim([0,1.0])\n",
        "plt.title('Training and Validation Loss')\n",
        "plt.xlabel('epoch')\n",
        "plt.show()"
      ],
      "execution_count": null,
      "outputs": []
    },
    {
      "cell_type": "markdown",
      "metadata": {
        "id": "spDnmCGmkK7B"
      },
      "source": [
        "### **Export model performance**"
      ]
    },
    {
      "cell_type": "code",
      "metadata": {
        "id": "B67m_rgckK7F"
      },
      "source": [
        "with open('irsnv2_model.tflite', 'wb') as f:\n",
        "  f.write(tflite_model_7)"
      ],
      "execution_count": null,
      "outputs": []
    },
    {
      "cell_type": "markdown",
      "metadata": {
        "id": "IWuH60oCkK7H"
      },
      "source": [
        "**Download the files**"
      ]
    },
    {
      "cell_type": "code",
      "metadata": {
        "id": "ytFNF-YHkK7H"
      },
      "source": [
        "from google.colab import files\n",
        "\n",
        "files.download('modelperformance.xls')\n",
        "files.download('modelperformance.jpeg')"
      ],
      "execution_count": null,
      "outputs": []
    },
    {
      "cell_type": "markdown",
      "metadata": {
        "id": "G_KjDWW6kK7J"
      },
      "source": [
        "### Summary:\n",
        "\n",
        "* **Using a pre-trained model for feature extraction**:  When working with a small dataset, it is common to take advantage of features learned by a model trained on a larger dataset in the same domain. This is done by instantiating the pre-trained model and adding a fully-connected classifier on top. The pre-trained model is \"frozen\" and only the weights of the classifier get updated during training.\n",
        "In this case, the convolutional base extracted all the features associated with each image and you just trained a classifier that determines the image class given that set of extracted features.\n",
        "\n",
        "* **Fine-tuning a pre-trained model**: To further improve performance, one might want to repurpose the top-level layers of the pre-trained models to the new dataset via fine-tuning.\n",
        "In this case, you tuned your weights such that your model learned high-level features specific to the dataset. This technique is usually recommended when the training dataset is large and very similar to the orginial dataset that the pre-trained model was trained on.\n"
      ]
    }
  ]
}